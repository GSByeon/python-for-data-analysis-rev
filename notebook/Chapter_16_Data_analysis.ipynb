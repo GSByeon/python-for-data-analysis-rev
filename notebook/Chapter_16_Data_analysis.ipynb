{
 "cells": [
  {
   "cell_type": "markdown",
   "metadata": {
    "toc-hr-collapsed": false
   },
   "source": [
    "# 16장 실전 데이터 분석 프로젝트"
   ]
  },
  {
   "cell_type": "markdown",
   "metadata": {},
   "source": [
    "## 16.1 데이터 분석 프로세스"
   ]
  },
  {
   "cell_type": "markdown",
   "metadata": {
    "toc-hr-collapsed": false
   },
   "source": [
    "## 16.2 데이터 획득, 처리, 시각화 심화"
   ]
  },
  {
   "cell_type": "markdown",
   "metadata": {},
   "source": [
    "### 깃허브에서 파일 다운로드"
   ]
  },
  {
   "cell_type": "markdown",
   "metadata": {},
   "source": [
    "**[16장: 533 ~ 534페이지]**"
   ]
  },
  {
   "cell_type": "code",
   "execution_count": 4,
   "metadata": {},
   "outputs": [],
   "source": [
    "import requests\n",
    "\n",
    "# 깃허브의 파일 URL\n",
    "url = 'https://github.com/wikibook/python-for-data-analysis/raw/master/readme.txt'\n",
    "\n",
    "# URL에 해당하는 파일을 내려받음\n",
    "r = requests.get(url)\n",
    "\n",
    "# 파일을 저장할 폴더와 파일명을 지정\n",
    "file_name = 'C:/myPyCode/data/readme.txt'\n",
    "\n",
    "# 내려받은 파일을 지정한 폴더에 저장\n",
    "with open(file_name, 'wb') as f:\n",
    "    f.write(r.content)"
   ]
  },
  {
   "cell_type": "markdown",
   "metadata": {},
   "source": [
    "**[16장: 534페이지]**"
   ]
  },
  {
   "cell_type": "code",
   "execution_count": 5,
   "metadata": {},
   "outputs": [
    {
     "data": {
      "text/plain": [
       "True"
      ]
     },
     "execution_count": 5,
     "metadata": {},
     "output_type": "execute_result"
    }
   ],
   "source": [
    "import os\n",
    "\n",
    "os.path.isfile(file_name) "
   ]
  },
  {
   "cell_type": "markdown",
   "metadata": {
    "toc-hr-collapsed": false
   },
   "source": [
    "### 데이터에서 결측치 확인 및 처리"
   ]
  },
  {
   "cell_type": "markdown",
   "metadata": {},
   "source": [
    "#### 결측치 확인"
   ]
  },
  {
   "cell_type": "markdown",
   "metadata": {},
   "source": [
    "**[16장: 535페이지]**"
   ]
  },
  {
   "cell_type": "code",
   "execution_count": 6,
   "metadata": {},
   "outputs": [
    {
     "name": "stdout",
     "output_type": "stream",
     "text": [
      "연도,제품1,제품2,제품3,제품4\n",
      "2015,250,150,,\n",
      "2016,200,160,170,\n",
      "2017,150,200,100,150\n",
      "2018,120,230,130,170\n",
      "2019,,250,140,\n"
     ]
    }
   ],
   "source": [
    "!type C:\\myPyCode\\data\\missing_data_test.csv"
   ]
  },
  {
   "cell_type": "markdown",
   "metadata": {},
   "source": [
    "**[16장: 535페이지]**"
   ]
  },
  {
   "cell_type": "code",
   "execution_count": 7,
   "metadata": {},
   "outputs": [
    {
     "data": {
      "text/html": [
       "<div>\n",
       "<style scoped>\n",
       "    .dataframe tbody tr th:only-of-type {\n",
       "        vertical-align: middle;\n",
       "    }\n",
       "\n",
       "    .dataframe tbody tr th {\n",
       "        vertical-align: top;\n",
       "    }\n",
       "\n",
       "    .dataframe thead th {\n",
       "        text-align: right;\n",
       "    }\n",
       "</style>\n",
       "<table border=\"1\" class=\"dataframe\">\n",
       "  <thead>\n",
       "    <tr style=\"text-align: right;\">\n",
       "      <th></th>\n",
       "      <th>제품1</th>\n",
       "      <th>제품2</th>\n",
       "      <th>제품3</th>\n",
       "      <th>제품4</th>\n",
       "    </tr>\n",
       "    <tr>\n",
       "      <th>연도</th>\n",
       "      <th></th>\n",
       "      <th></th>\n",
       "      <th></th>\n",
       "      <th></th>\n",
       "    </tr>\n",
       "  </thead>\n",
       "  <tbody>\n",
       "    <tr>\n",
       "      <th>2015</th>\n",
       "      <td>250.0</td>\n",
       "      <td>150</td>\n",
       "      <td>NaN</td>\n",
       "      <td>NaN</td>\n",
       "    </tr>\n",
       "    <tr>\n",
       "      <th>2016</th>\n",
       "      <td>200.0</td>\n",
       "      <td>160</td>\n",
       "      <td>170.0</td>\n",
       "      <td>NaN</td>\n",
       "    </tr>\n",
       "    <tr>\n",
       "      <th>2017</th>\n",
       "      <td>150.0</td>\n",
       "      <td>200</td>\n",
       "      <td>100.0</td>\n",
       "      <td>150.0</td>\n",
       "    </tr>\n",
       "    <tr>\n",
       "      <th>2018</th>\n",
       "      <td>120.0</td>\n",
       "      <td>230</td>\n",
       "      <td>130.0</td>\n",
       "      <td>170.0</td>\n",
       "    </tr>\n",
       "    <tr>\n",
       "      <th>2019</th>\n",
       "      <td>NaN</td>\n",
       "      <td>250</td>\n",
       "      <td>140.0</td>\n",
       "      <td>NaN</td>\n",
       "    </tr>\n",
       "  </tbody>\n",
       "</table>\n",
       "</div>"
      ],
      "text/plain": [
       "        제품1  제품2    제품3    제품4\n",
       "연도                            \n",
       "2015  250.0  150    NaN    NaN\n",
       "2016  200.0  160  170.0    NaN\n",
       "2017  150.0  200  100.0  150.0\n",
       "2018  120.0  230  130.0  170.0\n",
       "2019    NaN  250  140.0    NaN"
      ]
     },
     "execution_count": 7,
     "metadata": {},
     "output_type": "execute_result"
    }
   ],
   "source": [
    "import pandas as pd\n",
    "\n",
    "data_file = \"C:/myPyCode/data/missing_data_test.csv\"\n",
    "\n",
    "df = pd.read_csv(data_file, encoding = \"cp949\", index_col = \"연도\")\n",
    "\n",
    "df"
   ]
  },
  {
   "cell_type": "markdown",
   "metadata": {},
   "source": [
    "**[16장: 535페이지]**"
   ]
  },
  {
   "cell_type": "code",
   "execution_count": 9,
   "metadata": {},
   "outputs": [
    {
     "data": {
      "text/html": [
       "<div>\n",
       "<style scoped>\n",
       "    .dataframe tbody tr th:only-of-type {\n",
       "        vertical-align: middle;\n",
       "    }\n",
       "\n",
       "    .dataframe tbody tr th {\n",
       "        vertical-align: top;\n",
       "    }\n",
       "\n",
       "    .dataframe thead th {\n",
       "        text-align: right;\n",
       "    }\n",
       "</style>\n",
       "<table border=\"1\" class=\"dataframe\">\n",
       "  <thead>\n",
       "    <tr style=\"text-align: right;\">\n",
       "      <th></th>\n",
       "      <th>제품1</th>\n",
       "      <th>제품2</th>\n",
       "      <th>제품3</th>\n",
       "      <th>제품4</th>\n",
       "    </tr>\n",
       "    <tr>\n",
       "      <th>연도</th>\n",
       "      <th></th>\n",
       "      <th></th>\n",
       "      <th></th>\n",
       "      <th></th>\n",
       "    </tr>\n",
       "  </thead>\n",
       "  <tbody>\n",
       "    <tr>\n",
       "      <th>2015</th>\n",
       "      <td>False</td>\n",
       "      <td>False</td>\n",
       "      <td>True</td>\n",
       "      <td>True</td>\n",
       "    </tr>\n",
       "    <tr>\n",
       "      <th>2016</th>\n",
       "      <td>False</td>\n",
       "      <td>False</td>\n",
       "      <td>False</td>\n",
       "      <td>True</td>\n",
       "    </tr>\n",
       "    <tr>\n",
       "      <th>2017</th>\n",
       "      <td>False</td>\n",
       "      <td>False</td>\n",
       "      <td>False</td>\n",
       "      <td>False</td>\n",
       "    </tr>\n",
       "    <tr>\n",
       "      <th>2018</th>\n",
       "      <td>False</td>\n",
       "      <td>False</td>\n",
       "      <td>False</td>\n",
       "      <td>False</td>\n",
       "    </tr>\n",
       "    <tr>\n",
       "      <th>2019</th>\n",
       "      <td>True</td>\n",
       "      <td>False</td>\n",
       "      <td>False</td>\n",
       "      <td>True</td>\n",
       "    </tr>\n",
       "  </tbody>\n",
       "</table>\n",
       "</div>"
      ],
      "text/plain": [
       "        제품1    제품2    제품3    제품4\n",
       "연도                              \n",
       "2015  False  False   True   True\n",
       "2016  False  False  False   True\n",
       "2017  False  False  False  False\n",
       "2018  False  False  False  False\n",
       "2019   True  False  False   True"
      ]
     },
     "execution_count": 9,
     "metadata": {},
     "output_type": "execute_result"
    }
   ],
   "source": [
    "df.isnull()"
   ]
  },
  {
   "cell_type": "markdown",
   "metadata": {},
   "source": [
    "**[16장: 536페이지]**"
   ]
  },
  {
   "cell_type": "code",
   "execution_count": 10,
   "metadata": {},
   "outputs": [
    {
     "data": {
      "text/plain": [
       "제품1    1\n",
       "제품2    0\n",
       "제품3    1\n",
       "제품4    3\n",
       "dtype: int64"
      ]
     },
     "execution_count": 10,
     "metadata": {},
     "output_type": "execute_result"
    }
   ],
   "source": [
    "df.isnull().sum()"
   ]
  },
  {
   "cell_type": "markdown",
   "metadata": {},
   "source": [
    "#### 결측치 처리"
   ]
  },
  {
   "cell_type": "markdown",
   "metadata": {},
   "source": [
    "**[16장: 537페이지]**"
   ]
  },
  {
   "cell_type": "code",
   "execution_count": 11,
   "metadata": {},
   "outputs": [
    {
     "data": {
      "text/html": [
       "<div>\n",
       "<style scoped>\n",
       "    .dataframe tbody tr th:only-of-type {\n",
       "        vertical-align: middle;\n",
       "    }\n",
       "\n",
       "    .dataframe tbody tr th {\n",
       "        vertical-align: top;\n",
       "    }\n",
       "\n",
       "    .dataframe thead th {\n",
       "        text-align: right;\n",
       "    }\n",
       "</style>\n",
       "<table border=\"1\" class=\"dataframe\">\n",
       "  <thead>\n",
       "    <tr style=\"text-align: right;\">\n",
       "      <th></th>\n",
       "      <th>제품1</th>\n",
       "      <th>제품2</th>\n",
       "      <th>제품3</th>\n",
       "      <th>제품4</th>\n",
       "    </tr>\n",
       "    <tr>\n",
       "      <th>연도</th>\n",
       "      <th></th>\n",
       "      <th></th>\n",
       "      <th></th>\n",
       "      <th></th>\n",
       "    </tr>\n",
       "  </thead>\n",
       "  <tbody>\n",
       "    <tr>\n",
       "      <th>2015</th>\n",
       "      <td>250.0</td>\n",
       "      <td>150</td>\n",
       "      <td>NaN</td>\n",
       "      <td>NaN</td>\n",
       "    </tr>\n",
       "    <tr>\n",
       "      <th>2016</th>\n",
       "      <td>200.0</td>\n",
       "      <td>160</td>\n",
       "      <td>170.0</td>\n",
       "      <td>NaN</td>\n",
       "    </tr>\n",
       "    <tr>\n",
       "      <th>2017</th>\n",
       "      <td>150.0</td>\n",
       "      <td>200</td>\n",
       "      <td>100.0</td>\n",
       "      <td>150.0</td>\n",
       "    </tr>\n",
       "    <tr>\n",
       "      <th>2018</th>\n",
       "      <td>120.0</td>\n",
       "      <td>230</td>\n",
       "      <td>130.0</td>\n",
       "      <td>170.0</td>\n",
       "    </tr>\n",
       "  </tbody>\n",
       "</table>\n",
       "</div>"
      ],
      "text/plain": [
       "        제품1  제품2    제품3    제품4\n",
       "연도                            \n",
       "2015  250.0  150    NaN    NaN\n",
       "2016  200.0  160  170.0    NaN\n",
       "2017  150.0  200  100.0  150.0\n",
       "2018  120.0  230  130.0  170.0"
      ]
     },
     "execution_count": 11,
     "metadata": {},
     "output_type": "execute_result"
    }
   ],
   "source": [
    "df.drop(index=[2019])"
   ]
  },
  {
   "cell_type": "markdown",
   "metadata": {},
   "source": [
    "**[16장: 537페이지]**"
   ]
  },
  {
   "cell_type": "code",
   "execution_count": 12,
   "metadata": {},
   "outputs": [
    {
     "data": {
      "text/html": [
       "<div>\n",
       "<style scoped>\n",
       "    .dataframe tbody tr th:only-of-type {\n",
       "        vertical-align: middle;\n",
       "    }\n",
       "\n",
       "    .dataframe tbody tr th {\n",
       "        vertical-align: top;\n",
       "    }\n",
       "\n",
       "    .dataframe thead th {\n",
       "        text-align: right;\n",
       "    }\n",
       "</style>\n",
       "<table border=\"1\" class=\"dataframe\">\n",
       "  <thead>\n",
       "    <tr style=\"text-align: right;\">\n",
       "      <th></th>\n",
       "      <th>제품1</th>\n",
       "      <th>제품2</th>\n",
       "    </tr>\n",
       "    <tr>\n",
       "      <th>연도</th>\n",
       "      <th></th>\n",
       "      <th></th>\n",
       "    </tr>\n",
       "  </thead>\n",
       "  <tbody>\n",
       "    <tr>\n",
       "      <th>2015</th>\n",
       "      <td>250.0</td>\n",
       "      <td>150</td>\n",
       "    </tr>\n",
       "    <tr>\n",
       "      <th>2016</th>\n",
       "      <td>200.0</td>\n",
       "      <td>160</td>\n",
       "    </tr>\n",
       "    <tr>\n",
       "      <th>2017</th>\n",
       "      <td>150.0</td>\n",
       "      <td>200</td>\n",
       "    </tr>\n",
       "    <tr>\n",
       "      <th>2018</th>\n",
       "      <td>120.0</td>\n",
       "      <td>230</td>\n",
       "    </tr>\n",
       "    <tr>\n",
       "      <th>2019</th>\n",
       "      <td>NaN</td>\n",
       "      <td>250</td>\n",
       "    </tr>\n",
       "  </tbody>\n",
       "</table>\n",
       "</div>"
      ],
      "text/plain": [
       "        제품1  제품2\n",
       "연도              \n",
       "2015  250.0  150\n",
       "2016  200.0  160\n",
       "2017  150.0  200\n",
       "2018  120.0  230\n",
       "2019    NaN  250"
      ]
     },
     "execution_count": 12,
     "metadata": {},
     "output_type": "execute_result"
    }
   ],
   "source": [
    "df.drop(columns=['제품3', '제품4'])"
   ]
  },
  {
   "cell_type": "markdown",
   "metadata": {},
   "source": [
    "**[16장: 538페이지]** "
   ]
  },
  {
   "cell_type": "code",
   "execution_count": 19,
   "metadata": {},
   "outputs": [
    {
     "data": {
      "text/html": [
       "<div>\n",
       "<style scoped>\n",
       "    .dataframe tbody tr th:only-of-type {\n",
       "        vertical-align: middle;\n",
       "    }\n",
       "\n",
       "    .dataframe tbody tr th {\n",
       "        vertical-align: top;\n",
       "    }\n",
       "\n",
       "    .dataframe thead th {\n",
       "        text-align: right;\n",
       "    }\n",
       "</style>\n",
       "<table border=\"1\" class=\"dataframe\">\n",
       "  <thead>\n",
       "    <tr style=\"text-align: right;\">\n",
       "      <th></th>\n",
       "      <th>제품1</th>\n",
       "      <th>제품2</th>\n",
       "    </tr>\n",
       "    <tr>\n",
       "      <th>연도</th>\n",
       "      <th></th>\n",
       "      <th></th>\n",
       "    </tr>\n",
       "  </thead>\n",
       "  <tbody>\n",
       "    <tr>\n",
       "      <th>2015</th>\n",
       "      <td>250.0</td>\n",
       "      <td>150</td>\n",
       "    </tr>\n",
       "    <tr>\n",
       "      <th>2016</th>\n",
       "      <td>200.0</td>\n",
       "      <td>160</td>\n",
       "    </tr>\n",
       "    <tr>\n",
       "      <th>2017</th>\n",
       "      <td>150.0</td>\n",
       "      <td>200</td>\n",
       "    </tr>\n",
       "  </tbody>\n",
       "</table>\n",
       "</div>"
      ],
      "text/plain": [
       "        제품1  제품2\n",
       "연도              \n",
       "2015  250.0  150\n",
       "2016  200.0  160\n",
       "2017  150.0  200"
      ]
     },
     "execution_count": 19,
     "metadata": {},
     "output_type": "execute_result"
    }
   ],
   "source": [
    "df.drop(index=[2018, 2019], columns=['제품3', '제품4'])"
   ]
  },
  {
   "cell_type": "markdown",
   "metadata": {},
   "source": [
    "**[16장: 538페이지]** "
   ]
  },
  {
   "cell_type": "code",
   "execution_count": 22,
   "metadata": {},
   "outputs": [
    {
     "data": {
      "text/html": [
       "<div>\n",
       "<style scoped>\n",
       "    .dataframe tbody tr th:only-of-type {\n",
       "        vertical-align: middle;\n",
       "    }\n",
       "\n",
       "    .dataframe tbody tr th {\n",
       "        vertical-align: top;\n",
       "    }\n",
       "\n",
       "    .dataframe thead th {\n",
       "        text-align: right;\n",
       "    }\n",
       "</style>\n",
       "<table border=\"1\" class=\"dataframe\">\n",
       "  <thead>\n",
       "    <tr style=\"text-align: right;\">\n",
       "      <th></th>\n",
       "      <th>제품1</th>\n",
       "      <th>제품2</th>\n",
       "      <th>제품3</th>\n",
       "      <th>제품4</th>\n",
       "    </tr>\n",
       "    <tr>\n",
       "      <th>연도</th>\n",
       "      <th></th>\n",
       "      <th></th>\n",
       "      <th></th>\n",
       "      <th></th>\n",
       "    </tr>\n",
       "  </thead>\n",
       "  <tbody>\n",
       "    <tr>\n",
       "      <th>2017</th>\n",
       "      <td>150.0</td>\n",
       "      <td>200</td>\n",
       "      <td>100.0</td>\n",
       "      <td>150.0</td>\n",
       "    </tr>\n",
       "    <tr>\n",
       "      <th>2018</th>\n",
       "      <td>120.0</td>\n",
       "      <td>230</td>\n",
       "      <td>130.0</td>\n",
       "      <td>170.0</td>\n",
       "    </tr>\n",
       "  </tbody>\n",
       "</table>\n",
       "</div>"
      ],
      "text/plain": [
       "        제품1  제품2    제품3    제품4\n",
       "연도                            \n",
       "2017  150.0  200  100.0  150.0\n",
       "2018  120.0  230  130.0  170.0"
      ]
     },
     "execution_count": 22,
     "metadata": {},
     "output_type": "execute_result"
    }
   ],
   "source": [
    "df.dropna() #df.dropna(axis=0)도 결과는 같습니다."
   ]
  },
  {
   "cell_type": "markdown",
   "metadata": {},
   "source": [
    "**[16장: 539페이지]** "
   ]
  },
  {
   "cell_type": "code",
   "execution_count": 24,
   "metadata": {},
   "outputs": [
    {
     "data": {
      "text/html": [
       "<div>\n",
       "<style scoped>\n",
       "    .dataframe tbody tr th:only-of-type {\n",
       "        vertical-align: middle;\n",
       "    }\n",
       "\n",
       "    .dataframe tbody tr th {\n",
       "        vertical-align: top;\n",
       "    }\n",
       "\n",
       "    .dataframe thead th {\n",
       "        text-align: right;\n",
       "    }\n",
       "</style>\n",
       "<table border=\"1\" class=\"dataframe\">\n",
       "  <thead>\n",
       "    <tr style=\"text-align: right;\">\n",
       "      <th></th>\n",
       "      <th>제품1</th>\n",
       "      <th>제품2</th>\n",
       "      <th>제품3</th>\n",
       "      <th>제품4</th>\n",
       "    </tr>\n",
       "    <tr>\n",
       "      <th>연도</th>\n",
       "      <th></th>\n",
       "      <th></th>\n",
       "      <th></th>\n",
       "      <th></th>\n",
       "    </tr>\n",
       "  </thead>\n",
       "  <tbody>\n",
       "    <tr>\n",
       "      <th>2015</th>\n",
       "      <td>250.0</td>\n",
       "      <td>150</td>\n",
       "      <td>NaN</td>\n",
       "      <td>NaN</td>\n",
       "    </tr>\n",
       "    <tr>\n",
       "      <th>2016</th>\n",
       "      <td>200.0</td>\n",
       "      <td>160</td>\n",
       "      <td>170.0</td>\n",
       "      <td>NaN</td>\n",
       "    </tr>\n",
       "    <tr>\n",
       "      <th>2017</th>\n",
       "      <td>150.0</td>\n",
       "      <td>200</td>\n",
       "      <td>100.0</td>\n",
       "      <td>150.0</td>\n",
       "    </tr>\n",
       "    <tr>\n",
       "      <th>2018</th>\n",
       "      <td>120.0</td>\n",
       "      <td>230</td>\n",
       "      <td>130.0</td>\n",
       "      <td>170.0</td>\n",
       "    </tr>\n",
       "  </tbody>\n",
       "</table>\n",
       "</div>"
      ],
      "text/plain": [
       "        제품1  제품2    제품3    제품4\n",
       "연도                            \n",
       "2015  250.0  150    NaN    NaN\n",
       "2016  200.0  160  170.0    NaN\n",
       "2017  150.0  200  100.0  150.0\n",
       "2018  120.0  230  130.0  170.0"
      ]
     },
     "execution_count": 24,
     "metadata": {},
     "output_type": "execute_result"
    }
   ],
   "source": [
    "df.dropna(axis=0, subset=['제품1'])"
   ]
  },
  {
   "cell_type": "markdown",
   "metadata": {},
   "source": [
    "**[16장: 539페이지]** "
   ]
  },
  {
   "cell_type": "code",
   "execution_count": 25,
   "metadata": {},
   "outputs": [
    {
     "data": {
      "text/html": [
       "<div>\n",
       "<style scoped>\n",
       "    .dataframe tbody tr th:only-of-type {\n",
       "        vertical-align: middle;\n",
       "    }\n",
       "\n",
       "    .dataframe tbody tr th {\n",
       "        vertical-align: top;\n",
       "    }\n",
       "\n",
       "    .dataframe thead th {\n",
       "        text-align: right;\n",
       "    }\n",
       "</style>\n",
       "<table border=\"1\" class=\"dataframe\">\n",
       "  <thead>\n",
       "    <tr style=\"text-align: right;\">\n",
       "      <th></th>\n",
       "      <th>제품2</th>\n",
       "    </tr>\n",
       "    <tr>\n",
       "      <th>연도</th>\n",
       "      <th></th>\n",
       "    </tr>\n",
       "  </thead>\n",
       "  <tbody>\n",
       "    <tr>\n",
       "      <th>2015</th>\n",
       "      <td>150</td>\n",
       "    </tr>\n",
       "    <tr>\n",
       "      <th>2016</th>\n",
       "      <td>160</td>\n",
       "    </tr>\n",
       "    <tr>\n",
       "      <th>2017</th>\n",
       "      <td>200</td>\n",
       "    </tr>\n",
       "    <tr>\n",
       "      <th>2018</th>\n",
       "      <td>230</td>\n",
       "    </tr>\n",
       "    <tr>\n",
       "      <th>2019</th>\n",
       "      <td>250</td>\n",
       "    </tr>\n",
       "  </tbody>\n",
       "</table>\n",
       "</div>"
      ],
      "text/plain": [
       "      제품2\n",
       "연도       \n",
       "2015  150\n",
       "2016  160\n",
       "2017  200\n",
       "2018  230\n",
       "2019  250"
      ]
     },
     "execution_count": 25,
     "metadata": {},
     "output_type": "execute_result"
    }
   ],
   "source": [
    "df.dropna(axis=1)"
   ]
  },
  {
   "cell_type": "markdown",
   "metadata": {},
   "source": [
    "**[16장: 539페이지]** "
   ]
  },
  {
   "cell_type": "code",
   "execution_count": 26,
   "metadata": {},
   "outputs": [
    {
     "data": {
      "text/html": [
       "<div>\n",
       "<style scoped>\n",
       "    .dataframe tbody tr th:only-of-type {\n",
       "        vertical-align: middle;\n",
       "    }\n",
       "\n",
       "    .dataframe tbody tr th {\n",
       "        vertical-align: top;\n",
       "    }\n",
       "\n",
       "    .dataframe thead th {\n",
       "        text-align: right;\n",
       "    }\n",
       "</style>\n",
       "<table border=\"1\" class=\"dataframe\">\n",
       "  <thead>\n",
       "    <tr style=\"text-align: right;\">\n",
       "      <th></th>\n",
       "      <th>제품1</th>\n",
       "      <th>제품2</th>\n",
       "    </tr>\n",
       "    <tr>\n",
       "      <th>연도</th>\n",
       "      <th></th>\n",
       "      <th></th>\n",
       "    </tr>\n",
       "  </thead>\n",
       "  <tbody>\n",
       "    <tr>\n",
       "      <th>2015</th>\n",
       "      <td>250.0</td>\n",
       "      <td>150</td>\n",
       "    </tr>\n",
       "    <tr>\n",
       "      <th>2016</th>\n",
       "      <td>200.0</td>\n",
       "      <td>160</td>\n",
       "    </tr>\n",
       "    <tr>\n",
       "      <th>2017</th>\n",
       "      <td>150.0</td>\n",
       "      <td>200</td>\n",
       "    </tr>\n",
       "    <tr>\n",
       "      <th>2018</th>\n",
       "      <td>120.0</td>\n",
       "      <td>230</td>\n",
       "    </tr>\n",
       "    <tr>\n",
       "      <th>2019</th>\n",
       "      <td>NaN</td>\n",
       "      <td>250</td>\n",
       "    </tr>\n",
       "  </tbody>\n",
       "</table>\n",
       "</div>"
      ],
      "text/plain": [
       "        제품1  제품2\n",
       "연도              \n",
       "2015  250.0  150\n",
       "2016  200.0  160\n",
       "2017  150.0  200\n",
       "2018  120.0  230\n",
       "2019    NaN  250"
      ]
     },
     "execution_count": 26,
     "metadata": {},
     "output_type": "execute_result"
    }
   ],
   "source": [
    "df.dropna(axis=1, subset=[2015])"
   ]
  },
  {
   "cell_type": "markdown",
   "metadata": {},
   "source": [
    "**[16장: 540페이지]** "
   ]
  },
  {
   "cell_type": "code",
   "execution_count": 27,
   "metadata": {},
   "outputs": [
    {
     "data": {
      "text/html": [
       "<div>\n",
       "<style scoped>\n",
       "    .dataframe tbody tr th:only-of-type {\n",
       "        vertical-align: middle;\n",
       "    }\n",
       "\n",
       "    .dataframe tbody tr th {\n",
       "        vertical-align: top;\n",
       "    }\n",
       "\n",
       "    .dataframe thead th {\n",
       "        text-align: right;\n",
       "    }\n",
       "</style>\n",
       "<table border=\"1\" class=\"dataframe\">\n",
       "  <thead>\n",
       "    <tr style=\"text-align: right;\">\n",
       "      <th></th>\n",
       "      <th>제품2</th>\n",
       "      <th>제품3</th>\n",
       "    </tr>\n",
       "    <tr>\n",
       "      <th>연도</th>\n",
       "      <th></th>\n",
       "      <th></th>\n",
       "    </tr>\n",
       "  </thead>\n",
       "  <tbody>\n",
       "    <tr>\n",
       "      <th>2015</th>\n",
       "      <td>150</td>\n",
       "      <td>NaN</td>\n",
       "    </tr>\n",
       "    <tr>\n",
       "      <th>2016</th>\n",
       "      <td>160</td>\n",
       "      <td>170.0</td>\n",
       "    </tr>\n",
       "    <tr>\n",
       "      <th>2017</th>\n",
       "      <td>200</td>\n",
       "      <td>100.0</td>\n",
       "    </tr>\n",
       "    <tr>\n",
       "      <th>2018</th>\n",
       "      <td>230</td>\n",
       "      <td>130.0</td>\n",
       "    </tr>\n",
       "    <tr>\n",
       "      <th>2019</th>\n",
       "      <td>250</td>\n",
       "      <td>140.0</td>\n",
       "    </tr>\n",
       "  </tbody>\n",
       "</table>\n",
       "</div>"
      ],
      "text/plain": [
       "      제품2    제품3\n",
       "연도              \n",
       "2015  150    NaN\n",
       "2016  160  170.0\n",
       "2017  200  100.0\n",
       "2018  230  130.0\n",
       "2019  250  140.0"
      ]
     },
     "execution_count": 27,
     "metadata": {},
     "output_type": "execute_result"
    }
   ],
   "source": [
    "df.dropna(axis=1, subset=[2016, 2019])"
   ]
  },
  {
   "cell_type": "markdown",
   "metadata": {},
   "source": [
    "**[16장: 541페이지]**"
   ]
  },
  {
   "cell_type": "code",
   "execution_count": 525,
   "metadata": {},
   "outputs": [
    {
     "data": {
      "text/html": [
       "<div>\n",
       "<style scoped>\n",
       "    .dataframe tbody tr th:only-of-type {\n",
       "        vertical-align: middle;\n",
       "    }\n",
       "\n",
       "    .dataframe tbody tr th {\n",
       "        vertical-align: top;\n",
       "    }\n",
       "\n",
       "    .dataframe thead th {\n",
       "        text-align: right;\n",
       "    }\n",
       "</style>\n",
       "<table border=\"1\" class=\"dataframe\">\n",
       "  <thead>\n",
       "    <tr style=\"text-align: right;\">\n",
       "      <th></th>\n",
       "      <th>제품1</th>\n",
       "      <th>제품2</th>\n",
       "      <th>제품3</th>\n",
       "      <th>제품4</th>\n",
       "    </tr>\n",
       "    <tr>\n",
       "      <th>연도</th>\n",
       "      <th></th>\n",
       "      <th></th>\n",
       "      <th></th>\n",
       "      <th></th>\n",
       "    </tr>\n",
       "  </thead>\n",
       "  <tbody>\n",
       "    <tr>\n",
       "      <th>2015</th>\n",
       "      <td>250.0</td>\n",
       "      <td>150</td>\n",
       "      <td>0.0</td>\n",
       "      <td>0.0</td>\n",
       "    </tr>\n",
       "    <tr>\n",
       "      <th>2016</th>\n",
       "      <td>200.0</td>\n",
       "      <td>160</td>\n",
       "      <td>170.0</td>\n",
       "      <td>0.0</td>\n",
       "    </tr>\n",
       "    <tr>\n",
       "      <th>2017</th>\n",
       "      <td>150.0</td>\n",
       "      <td>200</td>\n",
       "      <td>100.0</td>\n",
       "      <td>150.0</td>\n",
       "    </tr>\n",
       "    <tr>\n",
       "      <th>2018</th>\n",
       "      <td>120.0</td>\n",
       "      <td>230</td>\n",
       "      <td>130.0</td>\n",
       "      <td>170.0</td>\n",
       "    </tr>\n",
       "    <tr>\n",
       "      <th>2019</th>\n",
       "      <td>0.0</td>\n",
       "      <td>250</td>\n",
       "      <td>140.0</td>\n",
       "      <td>0.0</td>\n",
       "    </tr>\n",
       "  </tbody>\n",
       "</table>\n",
       "</div>"
      ],
      "text/plain": [
       "        제품1  제품2    제품3    제품4\n",
       "연도                            \n",
       "2015  250.0  150    0.0    0.0\n",
       "2016  200.0  160  170.0    0.0\n",
       "2017  150.0  200  100.0  150.0\n",
       "2018  120.0  230  130.0  170.0\n",
       "2019    0.0  250  140.0    0.0"
      ]
     },
     "execution_count": 525,
     "metadata": {},
     "output_type": "execute_result"
    }
   ],
   "source": [
    "df.fillna(0)"
   ]
  },
  {
   "cell_type": "markdown",
   "metadata": {},
   "source": [
    "**[16장: 541페이지]**"
   ]
  },
  {
   "cell_type": "code",
   "execution_count": 28,
   "metadata": {},
   "outputs": [
    {
     "data": {
      "text/html": [
       "<div>\n",
       "<style scoped>\n",
       "    .dataframe tbody tr th:only-of-type {\n",
       "        vertical-align: middle;\n",
       "    }\n",
       "\n",
       "    .dataframe tbody tr th {\n",
       "        vertical-align: top;\n",
       "    }\n",
       "\n",
       "    .dataframe thead th {\n",
       "        text-align: right;\n",
       "    }\n",
       "</style>\n",
       "<table border=\"1\" class=\"dataframe\">\n",
       "  <thead>\n",
       "    <tr style=\"text-align: right;\">\n",
       "      <th></th>\n",
       "      <th>제품1</th>\n",
       "      <th>제품2</th>\n",
       "      <th>제품3</th>\n",
       "      <th>제품4</th>\n",
       "    </tr>\n",
       "    <tr>\n",
       "      <th>연도</th>\n",
       "      <th></th>\n",
       "      <th></th>\n",
       "      <th></th>\n",
       "      <th></th>\n",
       "    </tr>\n",
       "  </thead>\n",
       "  <tbody>\n",
       "    <tr>\n",
       "      <th>2015</th>\n",
       "      <td>250.0</td>\n",
       "      <td>150</td>\n",
       "      <td>170.0</td>\n",
       "      <td>150.0</td>\n",
       "    </tr>\n",
       "    <tr>\n",
       "      <th>2016</th>\n",
       "      <td>200.0</td>\n",
       "      <td>160</td>\n",
       "      <td>170.0</td>\n",
       "      <td>150.0</td>\n",
       "    </tr>\n",
       "    <tr>\n",
       "      <th>2017</th>\n",
       "      <td>150.0</td>\n",
       "      <td>200</td>\n",
       "      <td>100.0</td>\n",
       "      <td>150.0</td>\n",
       "    </tr>\n",
       "    <tr>\n",
       "      <th>2018</th>\n",
       "      <td>120.0</td>\n",
       "      <td>230</td>\n",
       "      <td>130.0</td>\n",
       "      <td>170.0</td>\n",
       "    </tr>\n",
       "    <tr>\n",
       "      <th>2019</th>\n",
       "      <td>NaN</td>\n",
       "      <td>250</td>\n",
       "      <td>140.0</td>\n",
       "      <td>NaN</td>\n",
       "    </tr>\n",
       "  </tbody>\n",
       "</table>\n",
       "</div>"
      ],
      "text/plain": [
       "        제품1  제품2    제품3    제품4\n",
       "연도                            \n",
       "2015  250.0  150  170.0  150.0\n",
       "2016  200.0  160  170.0  150.0\n",
       "2017  150.0  200  100.0  150.0\n",
       "2018  120.0  230  130.0  170.0\n",
       "2019    NaN  250  140.0    NaN"
      ]
     },
     "execution_count": 28,
     "metadata": {},
     "output_type": "execute_result"
    }
   ],
   "source": [
    "df.fillna(method='bfill')"
   ]
  },
  {
   "cell_type": "markdown",
   "metadata": {},
   "source": [
    "**[16장: 541페이지]**"
   ]
  },
  {
   "cell_type": "code",
   "execution_count": 29,
   "metadata": {},
   "outputs": [
    {
     "data": {
      "text/html": [
       "<div>\n",
       "<style scoped>\n",
       "    .dataframe tbody tr th:only-of-type {\n",
       "        vertical-align: middle;\n",
       "    }\n",
       "\n",
       "    .dataframe tbody tr th {\n",
       "        vertical-align: top;\n",
       "    }\n",
       "\n",
       "    .dataframe thead th {\n",
       "        text-align: right;\n",
       "    }\n",
       "</style>\n",
       "<table border=\"1\" class=\"dataframe\">\n",
       "  <thead>\n",
       "    <tr style=\"text-align: right;\">\n",
       "      <th></th>\n",
       "      <th>제품1</th>\n",
       "      <th>제품2</th>\n",
       "      <th>제품3</th>\n",
       "      <th>제품4</th>\n",
       "    </tr>\n",
       "    <tr>\n",
       "      <th>연도</th>\n",
       "      <th></th>\n",
       "      <th></th>\n",
       "      <th></th>\n",
       "      <th></th>\n",
       "    </tr>\n",
       "  </thead>\n",
       "  <tbody>\n",
       "    <tr>\n",
       "      <th>2015</th>\n",
       "      <td>250.0</td>\n",
       "      <td>150</td>\n",
       "      <td>NaN</td>\n",
       "      <td>NaN</td>\n",
       "    </tr>\n",
       "    <tr>\n",
       "      <th>2016</th>\n",
       "      <td>200.0</td>\n",
       "      <td>160</td>\n",
       "      <td>170.0</td>\n",
       "      <td>NaN</td>\n",
       "    </tr>\n",
       "    <tr>\n",
       "      <th>2017</th>\n",
       "      <td>150.0</td>\n",
       "      <td>200</td>\n",
       "      <td>100.0</td>\n",
       "      <td>150.0</td>\n",
       "    </tr>\n",
       "    <tr>\n",
       "      <th>2018</th>\n",
       "      <td>120.0</td>\n",
       "      <td>230</td>\n",
       "      <td>130.0</td>\n",
       "      <td>170.0</td>\n",
       "    </tr>\n",
       "    <tr>\n",
       "      <th>2019</th>\n",
       "      <td>120.0</td>\n",
       "      <td>250</td>\n",
       "      <td>140.0</td>\n",
       "      <td>170.0</td>\n",
       "    </tr>\n",
       "  </tbody>\n",
       "</table>\n",
       "</div>"
      ],
      "text/plain": [
       "        제품1  제품2    제품3    제품4\n",
       "연도                            \n",
       "2015  250.0  150    NaN    NaN\n",
       "2016  200.0  160  170.0    NaN\n",
       "2017  150.0  200  100.0  150.0\n",
       "2018  120.0  230  130.0  170.0\n",
       "2019  120.0  250  140.0  170.0"
      ]
     },
     "execution_count": 29,
     "metadata": {},
     "output_type": "execute_result"
    }
   ],
   "source": [
    "df.fillna(method='ffill')"
   ]
  },
  {
   "cell_type": "markdown",
   "metadata": {},
   "source": [
    "**[16장: 542페이지]**"
   ]
  },
  {
   "cell_type": "code",
   "execution_count": 30,
   "metadata": {},
   "outputs": [
    {
     "data": {
      "text/html": [
       "<div>\n",
       "<style scoped>\n",
       "    .dataframe tbody tr th:only-of-type {\n",
       "        vertical-align: middle;\n",
       "    }\n",
       "\n",
       "    .dataframe tbody tr th {\n",
       "        vertical-align: top;\n",
       "    }\n",
       "\n",
       "    .dataframe thead th {\n",
       "        text-align: right;\n",
       "    }\n",
       "</style>\n",
       "<table border=\"1\" class=\"dataframe\">\n",
       "  <thead>\n",
       "    <tr style=\"text-align: right;\">\n",
       "      <th></th>\n",
       "      <th>제품1</th>\n",
       "      <th>제품2</th>\n",
       "      <th>제품3</th>\n",
       "      <th>제품4</th>\n",
       "    </tr>\n",
       "    <tr>\n",
       "      <th>연도</th>\n",
       "      <th></th>\n",
       "      <th></th>\n",
       "      <th></th>\n",
       "      <th></th>\n",
       "    </tr>\n",
       "  </thead>\n",
       "  <tbody>\n",
       "    <tr>\n",
       "      <th>2015</th>\n",
       "      <td>250.0</td>\n",
       "      <td>150</td>\n",
       "      <td>NaN</td>\n",
       "      <td>400.0</td>\n",
       "    </tr>\n",
       "    <tr>\n",
       "      <th>2016</th>\n",
       "      <td>200.0</td>\n",
       "      <td>160</td>\n",
       "      <td>170.0</td>\n",
       "      <td>400.0</td>\n",
       "    </tr>\n",
       "    <tr>\n",
       "      <th>2017</th>\n",
       "      <td>150.0</td>\n",
       "      <td>200</td>\n",
       "      <td>100.0</td>\n",
       "      <td>150.0</td>\n",
       "    </tr>\n",
       "    <tr>\n",
       "      <th>2018</th>\n",
       "      <td>120.0</td>\n",
       "      <td>230</td>\n",
       "      <td>130.0</td>\n",
       "      <td>170.0</td>\n",
       "    </tr>\n",
       "    <tr>\n",
       "      <th>2019</th>\n",
       "      <td>100.0</td>\n",
       "      <td>250</td>\n",
       "      <td>140.0</td>\n",
       "      <td>400.0</td>\n",
       "    </tr>\n",
       "  </tbody>\n",
       "</table>\n",
       "</div>"
      ],
      "text/plain": [
       "        제품1  제품2    제품3    제품4\n",
       "연도                            \n",
       "2015  250.0  150    NaN  400.0\n",
       "2016  200.0  160  170.0  400.0\n",
       "2017  150.0  200  100.0  150.0\n",
       "2018  120.0  230  130.0  170.0\n",
       "2019  100.0  250  140.0  400.0"
      ]
     },
     "execution_count": 30,
     "metadata": {},
     "output_type": "execute_result"
    }
   ],
   "source": [
    "values = {'제품1': 100,  '제품4': 400}\n",
    "df.fillna(value=values)"
   ]
  },
  {
   "cell_type": "markdown",
   "metadata": {},
   "source": [
    "### 데이터의 요약 및 재구성"
   ]
  },
  {
   "cell_type": "markdown",
   "metadata": {},
   "source": [
    "#### 데이터의 구조 살펴보기"
   ]
  },
  {
   "cell_type": "markdown",
   "metadata": {},
   "source": [
    "**[16장: 543페이지]**"
   ]
  },
  {
   "cell_type": "code",
   "execution_count": 88,
   "metadata": {},
   "outputs": [
    {
     "data": {
      "text/html": [
       "<div>\n",
       "<style scoped>\n",
       "    .dataframe tbody tr th:only-of-type {\n",
       "        vertical-align: middle;\n",
       "    }\n",
       "\n",
       "    .dataframe tbody tr th {\n",
       "        vertical-align: top;\n",
       "    }\n",
       "\n",
       "    .dataframe thead th {\n",
       "        text-align: right;\n",
       "    }\n",
       "</style>\n",
       "<table border=\"1\" class=\"dataframe\">\n",
       "  <thead>\n",
       "    <tr style=\"text-align: right;\">\n",
       "      <th></th>\n",
       "      <th>매장명</th>\n",
       "      <th>제품종류</th>\n",
       "      <th>모델명</th>\n",
       "      <th>판매</th>\n",
       "      <th>재고</th>\n",
       "    </tr>\n",
       "  </thead>\n",
       "  <tbody>\n",
       "    <tr>\n",
       "      <th>0</th>\n",
       "      <td>A</td>\n",
       "      <td>스마트폰</td>\n",
       "      <td>S1</td>\n",
       "      <td>1</td>\n",
       "      <td>2</td>\n",
       "    </tr>\n",
       "    <tr>\n",
       "      <th>1</th>\n",
       "      <td>A</td>\n",
       "      <td>스마트폰</td>\n",
       "      <td>S2</td>\n",
       "      <td>2</td>\n",
       "      <td>5</td>\n",
       "    </tr>\n",
       "    <tr>\n",
       "      <th>2</th>\n",
       "      <td>A</td>\n",
       "      <td>TV</td>\n",
       "      <td>V1</td>\n",
       "      <td>3</td>\n",
       "      <td>5</td>\n",
       "    </tr>\n",
       "    <tr>\n",
       "      <th>3</th>\n",
       "      <td>B</td>\n",
       "      <td>스마트폰</td>\n",
       "      <td>S2</td>\n",
       "      <td>4</td>\n",
       "      <td>6</td>\n",
       "    </tr>\n",
       "    <tr>\n",
       "      <th>4</th>\n",
       "      <td>B</td>\n",
       "      <td>스마트폰</td>\n",
       "      <td>S1</td>\n",
       "      <td>5</td>\n",
       "      <td>8</td>\n",
       "    </tr>\n",
       "    <tr>\n",
       "      <th>5</th>\n",
       "      <td>B</td>\n",
       "      <td>TV</td>\n",
       "      <td>V1</td>\n",
       "      <td>6</td>\n",
       "      <td>9</td>\n",
       "    </tr>\n",
       "    <tr>\n",
       "      <th>6</th>\n",
       "      <td>C</td>\n",
       "      <td>스마트폰</td>\n",
       "      <td>S2</td>\n",
       "      <td>2</td>\n",
       "      <td>4</td>\n",
       "    </tr>\n",
       "    <tr>\n",
       "      <th>7</th>\n",
       "      <td>C</td>\n",
       "      <td>TV</td>\n",
       "      <td>V1</td>\n",
       "      <td>3</td>\n",
       "      <td>6</td>\n",
       "    </tr>\n",
       "    <tr>\n",
       "      <th>8</th>\n",
       "      <td>C</td>\n",
       "      <td>TV</td>\n",
       "      <td>V2</td>\n",
       "      <td>7</td>\n",
       "      <td>9</td>\n",
       "    </tr>\n",
       "  </tbody>\n",
       "</table>\n",
       "</div>"
      ],
      "text/plain": [
       "  매장명  제품종류 모델명  판매  재고\n",
       "0   A  스마트폰  S1   1   2\n",
       "1   A  스마트폰  S2   2   5\n",
       "2   A    TV  V1   3   5\n",
       "3   B  스마트폰  S2   4   6\n",
       "4   B  스마트폰  S1   5   8\n",
       "5   B    TV  V1   6   9\n",
       "6   C  스마트폰  S2   2   4\n",
       "7   C    TV  V1   3   6\n",
       "8   C    TV  V2   7   9"
      ]
     },
     "execution_count": 88,
     "metadata": {},
     "output_type": "execute_result"
    }
   ],
   "source": [
    "import pandas as pd\n",
    "\n",
    "data_file = \"C:/myPyCode/data/total_sales_data.csv\"\n",
    "\n",
    "df_sales = pd.read_csv(data_file)\n",
    "df_sales"
   ]
  },
  {
   "cell_type": "markdown",
   "metadata": {},
   "source": [
    "**[16장: 543페이지]**"
   ]
  },
  {
   "cell_type": "code",
   "execution_count": 83,
   "metadata": {},
   "outputs": [
    {
     "name": "stdout",
     "output_type": "stream",
     "text": [
      "<class 'pandas.core.frame.DataFrame'>\n",
      "RangeIndex: 9 entries, 0 to 8\n",
      "Data columns (total 5 columns):\n",
      "매장명     9 non-null object\n",
      "제품종류    9 non-null object\n",
      "모델명     9 non-null object\n",
      "판매      9 non-null int64\n",
      "재고      9 non-null int64\n",
      "dtypes: int64(2), object(3)\n",
      "memory usage: 440.0+ bytes\n"
     ]
    }
   ],
   "source": [
    "df_sales.info()"
   ]
  },
  {
   "cell_type": "markdown",
   "metadata": {},
   "source": [
    "**[16장: 544페이지]**"
   ]
  },
  {
   "cell_type": "code",
   "execution_count": 84,
   "metadata": {},
   "outputs": [
    {
     "data": {
      "text/plain": [
       "A    3\n",
       "C    3\n",
       "B    3\n",
       "Name: 매장명, dtype: int64"
      ]
     },
     "execution_count": 84,
     "metadata": {},
     "output_type": "execute_result"
    }
   ],
   "source": [
    "df_sales['매장명'].value_counts()"
   ]
  },
  {
   "cell_type": "markdown",
   "metadata": {},
   "source": [
    "**[16장: 545페이지]**"
   ]
  },
  {
   "cell_type": "code",
   "execution_count": 85,
   "metadata": {},
   "outputs": [
    {
     "data": {
      "text/plain": [
       "스마트폰    5\n",
       "TV      4\n",
       "Name: 제품종류, dtype: int64"
      ]
     },
     "execution_count": 85,
     "metadata": {},
     "output_type": "execute_result"
    }
   ],
   "source": [
    "df_sales['제품종류'].value_counts()"
   ]
  },
  {
   "cell_type": "markdown",
   "metadata": {},
   "source": [
    "#### 피벗 테이블로 데이터 재구성하기"
   ]
  },
  {
   "cell_type": "markdown",
   "metadata": {},
   "source": [
    "**[16장: 546페이지]**"
   ]
  },
  {
   "cell_type": "code",
   "execution_count": 86,
   "metadata": {},
   "outputs": [
    {
     "data": {
      "text/html": [
       "<div>\n",
       "<style scoped>\n",
       "    .dataframe tbody tr th:only-of-type {\n",
       "        vertical-align: middle;\n",
       "    }\n",
       "\n",
       "    .dataframe tbody tr th {\n",
       "        vertical-align: top;\n",
       "    }\n",
       "\n",
       "    .dataframe thead th {\n",
       "        text-align: right;\n",
       "    }\n",
       "</style>\n",
       "<table border=\"1\" class=\"dataframe\">\n",
       "  <thead>\n",
       "    <tr style=\"text-align: right;\">\n",
       "      <th></th>\n",
       "      <th>매장명</th>\n",
       "      <th>제품종류</th>\n",
       "      <th>모델명</th>\n",
       "      <th>판매</th>\n",
       "      <th>재고</th>\n",
       "    </tr>\n",
       "  </thead>\n",
       "  <tbody>\n",
       "    <tr>\n",
       "      <th>0</th>\n",
       "      <td>A</td>\n",
       "      <td>스마트폰</td>\n",
       "      <td>S1</td>\n",
       "      <td>1</td>\n",
       "      <td>2</td>\n",
       "    </tr>\n",
       "    <tr>\n",
       "      <th>1</th>\n",
       "      <td>A</td>\n",
       "      <td>스마트폰</td>\n",
       "      <td>S2</td>\n",
       "      <td>2</td>\n",
       "      <td>5</td>\n",
       "    </tr>\n",
       "    <tr>\n",
       "      <th>2</th>\n",
       "      <td>A</td>\n",
       "      <td>TV</td>\n",
       "      <td>V1</td>\n",
       "      <td>3</td>\n",
       "      <td>5</td>\n",
       "    </tr>\n",
       "    <tr>\n",
       "      <th>3</th>\n",
       "      <td>B</td>\n",
       "      <td>스마트폰</td>\n",
       "      <td>S2</td>\n",
       "      <td>4</td>\n",
       "      <td>6</td>\n",
       "    </tr>\n",
       "    <tr>\n",
       "      <th>4</th>\n",
       "      <td>B</td>\n",
       "      <td>스마트폰</td>\n",
       "      <td>S1</td>\n",
       "      <td>5</td>\n",
       "      <td>8</td>\n",
       "    </tr>\n",
       "    <tr>\n",
       "      <th>5</th>\n",
       "      <td>B</td>\n",
       "      <td>TV</td>\n",
       "      <td>V1</td>\n",
       "      <td>6</td>\n",
       "      <td>9</td>\n",
       "    </tr>\n",
       "    <tr>\n",
       "      <th>6</th>\n",
       "      <td>C</td>\n",
       "      <td>스마트폰</td>\n",
       "      <td>S2</td>\n",
       "      <td>2</td>\n",
       "      <td>4</td>\n",
       "    </tr>\n",
       "    <tr>\n",
       "      <th>7</th>\n",
       "      <td>C</td>\n",
       "      <td>TV</td>\n",
       "      <td>V1</td>\n",
       "      <td>3</td>\n",
       "      <td>6</td>\n",
       "    </tr>\n",
       "    <tr>\n",
       "      <th>8</th>\n",
       "      <td>C</td>\n",
       "      <td>TV</td>\n",
       "      <td>V2</td>\n",
       "      <td>7</td>\n",
       "      <td>9</td>\n",
       "    </tr>\n",
       "  </tbody>\n",
       "</table>\n",
       "</div>"
      ],
      "text/plain": [
       "  매장명  제품종류 모델명  판매  재고\n",
       "0   A  스마트폰  S1   1   2\n",
       "1   A  스마트폰  S2   2   5\n",
       "2   A    TV  V1   3   5\n",
       "3   B  스마트폰  S2   4   6\n",
       "4   B  스마트폰  S1   5   8\n",
       "5   B    TV  V1   6   9\n",
       "6   C  스마트폰  S2   2   4\n",
       "7   C    TV  V1   3   6\n",
       "8   C    TV  V2   7   9"
      ]
     },
     "execution_count": 86,
     "metadata": {},
     "output_type": "execute_result"
    }
   ],
   "source": [
    "df_sales"
   ]
  },
  {
   "cell_type": "markdown",
   "metadata": {},
   "source": [
    "**[16장: 546페이지]**"
   ]
  },
  {
   "cell_type": "code",
   "execution_count": 87,
   "metadata": {},
   "outputs": [
    {
     "data": {
      "text/html": [
       "<div>\n",
       "<style scoped>\n",
       "    .dataframe tbody tr th:only-of-type {\n",
       "        vertical-align: middle;\n",
       "    }\n",
       "\n",
       "    .dataframe tbody tr th {\n",
       "        vertical-align: top;\n",
       "    }\n",
       "\n",
       "    .dataframe thead th {\n",
       "        text-align: right;\n",
       "    }\n",
       "</style>\n",
       "<table border=\"1\" class=\"dataframe\">\n",
       "  <thead>\n",
       "    <tr style=\"text-align: right;\">\n",
       "      <th></th>\n",
       "      <th></th>\n",
       "      <th></th>\n",
       "      <th>재고</th>\n",
       "      <th>판매</th>\n",
       "    </tr>\n",
       "    <tr>\n",
       "      <th>매장명</th>\n",
       "      <th>제품종류</th>\n",
       "      <th>모델명</th>\n",
       "      <th></th>\n",
       "      <th></th>\n",
       "    </tr>\n",
       "  </thead>\n",
       "  <tbody>\n",
       "    <tr>\n",
       "      <th rowspan=\"3\" valign=\"top\">A</th>\n",
       "      <th>TV</th>\n",
       "      <th>V1</th>\n",
       "      <td>5</td>\n",
       "      <td>3</td>\n",
       "    </tr>\n",
       "    <tr>\n",
       "      <th rowspan=\"2\" valign=\"top\">스마트폰</th>\n",
       "      <th>S1</th>\n",
       "      <td>2</td>\n",
       "      <td>1</td>\n",
       "    </tr>\n",
       "    <tr>\n",
       "      <th>S2</th>\n",
       "      <td>5</td>\n",
       "      <td>2</td>\n",
       "    </tr>\n",
       "    <tr>\n",
       "      <th rowspan=\"3\" valign=\"top\">B</th>\n",
       "      <th>TV</th>\n",
       "      <th>V1</th>\n",
       "      <td>9</td>\n",
       "      <td>6</td>\n",
       "    </tr>\n",
       "    <tr>\n",
       "      <th rowspan=\"2\" valign=\"top\">스마트폰</th>\n",
       "      <th>S1</th>\n",
       "      <td>8</td>\n",
       "      <td>5</td>\n",
       "    </tr>\n",
       "    <tr>\n",
       "      <th>S2</th>\n",
       "      <td>6</td>\n",
       "      <td>4</td>\n",
       "    </tr>\n",
       "    <tr>\n",
       "      <th rowspan=\"3\" valign=\"top\">C</th>\n",
       "      <th rowspan=\"2\" valign=\"top\">TV</th>\n",
       "      <th>V1</th>\n",
       "      <td>6</td>\n",
       "      <td>3</td>\n",
       "    </tr>\n",
       "    <tr>\n",
       "      <th>V2</th>\n",
       "      <td>9</td>\n",
       "      <td>7</td>\n",
       "    </tr>\n",
       "    <tr>\n",
       "      <th>스마트폰</th>\n",
       "      <th>S2</th>\n",
       "      <td>4</td>\n",
       "      <td>2</td>\n",
       "    </tr>\n",
       "  </tbody>\n",
       "</table>\n",
       "</div>"
      ],
      "text/plain": [
       "              재고  판매\n",
       "매장명 제품종류 모델명        \n",
       "A   TV   V1    5   3\n",
       "    스마트폰 S1    2   1\n",
       "         S2    5   2\n",
       "B   TV   V1    9   6\n",
       "    스마트폰 S1    8   5\n",
       "         S2    6   4\n",
       "C   TV   V1    6   3\n",
       "         V2    9   7\n",
       "    스마트폰 S2    4   2"
      ]
     },
     "execution_count": 87,
     "metadata": {},
     "output_type": "execute_result"
    }
   ],
   "source": [
    "df_sales.pivot_table(index=[\"매장명\", \"제품종류\", \"모델명\"],\n",
    "                     values =[\"판매\",\"재고\"], aggfunc='sum')"
   ]
  },
  {
   "cell_type": "markdown",
   "metadata": {},
   "source": [
    "**[16장: 547페이지]**"
   ]
  },
  {
   "cell_type": "code",
   "execution_count": 40,
   "metadata": {},
   "outputs": [
    {
     "data": {
      "text/html": [
       "<div>\n",
       "<style scoped>\n",
       "    .dataframe tbody tr th:only-of-type {\n",
       "        vertical-align: middle;\n",
       "    }\n",
       "\n",
       "    .dataframe tbody tr th {\n",
       "        vertical-align: top;\n",
       "    }\n",
       "\n",
       "    .dataframe thead tr th {\n",
       "        text-align: left;\n",
       "    }\n",
       "\n",
       "    .dataframe thead tr:last-of-type th {\n",
       "        text-align: right;\n",
       "    }\n",
       "</style>\n",
       "<table border=\"1\" class=\"dataframe\">\n",
       "  <thead>\n",
       "    <tr>\n",
       "      <th></th>\n",
       "      <th colspan=\"2\" halign=\"left\">재고</th>\n",
       "      <th colspan=\"2\" halign=\"left\">판매</th>\n",
       "    </tr>\n",
       "    <tr>\n",
       "      <th>제품종류</th>\n",
       "      <th>TV</th>\n",
       "      <th>스마트폰</th>\n",
       "      <th>TV</th>\n",
       "      <th>스마트폰</th>\n",
       "    </tr>\n",
       "    <tr>\n",
       "      <th>매장명</th>\n",
       "      <th></th>\n",
       "      <th></th>\n",
       "      <th></th>\n",
       "      <th></th>\n",
       "    </tr>\n",
       "  </thead>\n",
       "  <tbody>\n",
       "    <tr>\n",
       "      <th>A</th>\n",
       "      <td>5</td>\n",
       "      <td>7</td>\n",
       "      <td>3</td>\n",
       "      <td>3</td>\n",
       "    </tr>\n",
       "    <tr>\n",
       "      <th>B</th>\n",
       "      <td>9</td>\n",
       "      <td>14</td>\n",
       "      <td>6</td>\n",
       "      <td>9</td>\n",
       "    </tr>\n",
       "    <tr>\n",
       "      <th>C</th>\n",
       "      <td>15</td>\n",
       "      <td>4</td>\n",
       "      <td>10</td>\n",
       "      <td>2</td>\n",
       "    </tr>\n",
       "  </tbody>\n",
       "</table>\n",
       "</div>"
      ],
      "text/plain": [
       "      재고       판매     \n",
       "제품종류  TV 스마트폰  TV 스마트폰\n",
       "매장명                   \n",
       "A      5    7   3    3\n",
       "B      9   14   6    9\n",
       "C     15    4  10    2"
      ]
     },
     "execution_count": 40,
     "metadata": {},
     "output_type": "execute_result"
    }
   ],
   "source": [
    "df_sales.pivot_table(index=[\"매장명\"], columns = [\"제품종류\"],\n",
    "                     values =[\"판매\",\"재고\"], aggfunc='sum')"
   ]
  },
  {
   "cell_type": "markdown",
   "metadata": {},
   "source": [
    "**[16장: 547페이지]**"
   ]
  },
  {
   "cell_type": "code",
   "execution_count": 41,
   "metadata": {},
   "outputs": [
    {
     "data": {
      "text/html": [
       "<div>\n",
       "<style scoped>\n",
       "    .dataframe tbody tr th:only-of-type {\n",
       "        vertical-align: middle;\n",
       "    }\n",
       "\n",
       "    .dataframe tbody tr th {\n",
       "        vertical-align: top;\n",
       "    }\n",
       "\n",
       "    .dataframe thead tr th {\n",
       "        text-align: left;\n",
       "    }\n",
       "\n",
       "    .dataframe thead tr:last-of-type th {\n",
       "        text-align: right;\n",
       "    }\n",
       "</style>\n",
       "<table border=\"1\" class=\"dataframe\">\n",
       "  <thead>\n",
       "    <tr>\n",
       "      <th></th>\n",
       "      <th colspan=\"2\" halign=\"left\">재고</th>\n",
       "      <th colspan=\"2\" halign=\"left\">판매</th>\n",
       "    </tr>\n",
       "    <tr>\n",
       "      <th>제품종류</th>\n",
       "      <th>TV</th>\n",
       "      <th>스마트폰</th>\n",
       "      <th>TV</th>\n",
       "      <th>스마트폰</th>\n",
       "    </tr>\n",
       "    <tr>\n",
       "      <th>매장명</th>\n",
       "      <th></th>\n",
       "      <th></th>\n",
       "      <th></th>\n",
       "      <th></th>\n",
       "    </tr>\n",
       "  </thead>\n",
       "  <tbody>\n",
       "    <tr>\n",
       "      <th>A</th>\n",
       "      <td>1</td>\n",
       "      <td>2</td>\n",
       "      <td>1</td>\n",
       "      <td>2</td>\n",
       "    </tr>\n",
       "    <tr>\n",
       "      <th>B</th>\n",
       "      <td>1</td>\n",
       "      <td>2</td>\n",
       "      <td>1</td>\n",
       "      <td>2</td>\n",
       "    </tr>\n",
       "    <tr>\n",
       "      <th>C</th>\n",
       "      <td>2</td>\n",
       "      <td>1</td>\n",
       "      <td>2</td>\n",
       "      <td>1</td>\n",
       "    </tr>\n",
       "  </tbody>\n",
       "</table>\n",
       "</div>"
      ],
      "text/plain": [
       "     재고      판매     \n",
       "제품종류 TV 스마트폰 TV 스마트폰\n",
       "매장명                 \n",
       "A     1    2  1    2\n",
       "B     1    2  1    2\n",
       "C     2    1  2    1"
      ]
     },
     "execution_count": 41,
     "metadata": {},
     "output_type": "execute_result"
    }
   ],
   "source": [
    "df_sales.pivot_table(index=[\"매장명\"], columns = [\"제품종류\"],\n",
    "                     values =[\"판매\",\"재고\"], aggfunc='count')"
   ]
  },
  {
   "cell_type": "markdown",
   "metadata": {},
   "source": [
    "### 워드 클라우드를 이용한 데이터 시각화"
   ]
  },
  {
   "cell_type": "markdown",
   "metadata": {},
   "source": [
    "**[16장: 549~550페이지]**"
   ]
  },
  {
   "cell_type": "code",
   "execution_count": 43,
   "metadata": {},
   "outputs": [
    {
     "data": {
      "image/png": "[encoded data removed]",
      "text/plain": [
       "<Figure size 432x288 with 1 Axes>"
      ]
     },
     "metadata": {
      "needs_background": "light"
     },
     "output_type": "display_data"
    }
   ],
   "source": [
    "from wordcloud import WordCloud\n",
    "import matplotlib.pyplot as plt\n",
    "\n",
    "file_name = 'C:/myPyCode/data/littleprince_djvu.txt'\n",
    "\n",
    "with open(file_name) as f: # 파일을 읽기 모드로 열기\n",
    "    text = f.read() # 파일의 내용 읽어오기\n",
    "\n",
    "# 워드 클라우드의 이미지를 생성합니다.\n",
    "wordcloud_image = WordCloud().generate(text)\n",
    "\n",
    "# 생성한 워드 클라우드 이미지를 화면에 표시합니다.\n",
    "plt.imshow(wordcloud_image, interpolation='bilinear')\n",
    "plt.axis(\"off\")\n",
    "plt.show()"
   ]
  },
  {
   "cell_type": "markdown",
   "metadata": {},
   "source": [
    "**[16장: 550페이지]**"
   ]
  },
  {
   "cell_type": "code",
   "execution_count": 44,
   "metadata": {},
   "outputs": [
    {
     "data": {
      "image/png": "[encoded data removed]",
      "text/plain": [
       "<Figure size 432x288 with 1 Axes>"
      ]
     },
     "metadata": {
      "needs_background": "light"
     },
     "output_type": "display_data"
    }
   ],
   "source": [
    "wordcloud_image = WordCloud(background_color='white', max_font_size=300, width=800, height=400).generate(text)\n",
    "\n",
    "plt.imshow(wordcloud_image, interpolation=\"bilinear\")\n",
    "plt.axis(\"off\")\n",
    "plt.show()"
   ]
  },
  {
   "cell_type": "markdown",
   "metadata": {},
   "source": [
    "**[16장: 551페이지]**"
   ]
  },
  {
   "cell_type": "code",
   "execution_count": 46,
   "metadata": {},
   "outputs": [],
   "source": [
    "image_file_name = 'C:/myPyCode/figures/little_prince.png'\n",
    "\n",
    "wordcloud_image.to_file(image_file_name)\n",
    "plt.show()"
   ]
  },
  {
   "cell_type": "markdown",
   "metadata": {},
   "source": [
    "**[16장: 551페이지]**"
   ]
  },
  {
   "cell_type": "code",
   "execution_count": 47,
   "metadata": {},
   "outputs": [
    {
     "data": {
      "text/html": [
       "<div>\n",
       "<style scoped>\n",
       "    .dataframe tbody tr th:only-of-type {\n",
       "        vertical-align: middle;\n",
       "    }\n",
       "\n",
       "    .dataframe tbody tr th {\n",
       "        vertical-align: top;\n",
       "    }\n",
       "\n",
       "    .dataframe thead th {\n",
       "        text-align: right;\n",
       "    }\n",
       "</style>\n",
       "<table border=\"1\" class=\"dataframe\">\n",
       "  <thead>\n",
       "    <tr style=\"text-align: right;\">\n",
       "      <th></th>\n",
       "      <th>빈도</th>\n",
       "    </tr>\n",
       "    <tr>\n",
       "      <th>단어</th>\n",
       "      <th></th>\n",
       "    </tr>\n",
       "  </thead>\n",
       "  <tbody>\n",
       "    <tr>\n",
       "      <th>산업혁명</th>\n",
       "      <td>1662</td>\n",
       "    </tr>\n",
       "    <tr>\n",
       "      <th>기술</th>\n",
       "      <td>1223</td>\n",
       "    </tr>\n",
       "    <tr>\n",
       "      <th>사업</th>\n",
       "      <td>1126</td>\n",
       "    </tr>\n",
       "    <tr>\n",
       "      <th>혁신</th>\n",
       "      <td>1084</td>\n",
       "    </tr>\n",
       "    <tr>\n",
       "      <th>경제</th>\n",
       "      <td>1000</td>\n",
       "    </tr>\n",
       "  </tbody>\n",
       "</table>\n",
       "</div>"
      ],
      "text/plain": [
       "        빈도\n",
       "단어        \n",
       "산업혁명  1662\n",
       "기술    1223\n",
       "사업    1126\n",
       "혁신    1084\n",
       "경제    1000"
      ]
     },
     "execution_count": 47,
     "metadata": {},
     "output_type": "execute_result"
    }
   ],
   "source": [
    "import pandas as pd\n",
    "\n",
    "word_count_file = \"C:/myPyCode/data/word_count.csv\"\n",
    "word_count = pd.read_csv(word_count_file, index_col = '단어')\n",
    "word_count.head(5)"
   ]
  },
  {
   "cell_type": "markdown",
   "metadata": {},
   "source": [
    "**[16장: 552페이지]**"
   ]
  },
  {
   "cell_type": "code",
   "execution_count": 49,
   "metadata": {},
   "outputs": [
    {
     "data": {
      "text/plain": [
       "단어\n",
       "산업혁명    1662\n",
       "기술      1223\n",
       "사업      1126\n",
       "혁신      1084\n",
       "경제      1000\n",
       "Name: 빈도, dtype: int64"
      ]
     },
     "execution_count": 49,
     "metadata": {},
     "output_type": "execute_result"
    }
   ],
   "source": [
    "word_count['빈도'][0:5]"
   ]
  },
  {
   "cell_type": "markdown",
   "metadata": {},
   "source": [
    "**[16장: 552페이지]**"
   ]
  },
  {
   "cell_type": "code",
   "execution_count": 50,
   "metadata": {},
   "outputs": [
    {
     "data": {
      "text/plain": [
       "pandas.core.series.Series"
      ]
     },
     "execution_count": 50,
     "metadata": {},
     "output_type": "execute_result"
    }
   ],
   "source": [
    "type(word_count['빈도'])"
   ]
  },
  {
   "cell_type": "markdown",
   "metadata": {},
   "source": [
    "**[16장: 553페이지]**"
   ]
  },
  {
   "cell_type": "code",
   "execution_count": 52,
   "metadata": {},
   "outputs": [
    {
     "data": {
      "image/png": "[encoded data removed]",
      "text/plain": [
       "<Figure size 432x288 with 1 Axes>"
      ]
     },
     "metadata": {
      "needs_background": "light"
     },
     "output_type": "display_data"
    }
   ],
   "source": [
    "from wordcloud import WordCloud\n",
    "import matplotlib.pyplot as plt\n",
    "\n",
    "korean_font_path = 'C:/Windows/Fonts/malgun.ttf' # 한글 폰트(맑은 고딕) 파일명\n",
    "\n",
    "# 워드 클라우드 이미지 생성\n",
    "wc = WordCloud(font_path=korean_font_path, background_color='white')\n",
    "\n",
    "frequencies = word_count['빈도'] # pandas의 Series 형식이 됨\n",
    "wordcloud_image = wc.generate_from_frequencies(frequencies)\n",
    "\n",
    "# 생성한 워드 클라우드 이미지를 화면에 표시\n",
    "plt.imshow(wordcloud_image, interpolation=\"bilinear\")\n",
    "plt.axis(\"off\")\n",
    "plt.show()"
   ]
  },
  {
   "cell_type": "markdown",
   "metadata": {},
   "source": [
    "## 16.3 실전 데이터(서울시 업무추진비) 분석"
   ]
  },
  {
   "cell_type": "markdown",
   "metadata": {},
   "source": [
    "### 데이터 분석의 주제 선정"
   ]
  },
  {
   "cell_type": "markdown",
   "metadata": {},
   "source": [
    "### 데이터 수집"
   ]
  },
  {
   "cell_type": "markdown",
   "metadata": {},
   "source": [
    "**[16장: 557~558페이지]**"
   ]
  },
  {
   "cell_type": "code",
   "execution_count": 53,
   "metadata": {},
   "outputs": [],
   "source": [
    "import requests\n",
    "import os\n",
    "import pathlib\n",
    "\n",
    "#인자: 확장자, 연도, 내려받을 폴더\n",
    "def get_seoul_expense_list(extension, year, data_folder): \n",
    "\n",
    "    # 깃허브의 데이터 위치 지정\n",
    "    # ex) 'https://github.com/seoul-opengov/opengov/raw/master/expense_list2016/'\n",
    "    expense_list_year_url = 'https://github.com/seoul-opengov/opengov/raw/master/expense_list' + str(year) + '/'\n",
    "\n",
    "    # 데이터를 내려받을 폴더 지정\n",
    "    # ex) 'C:/myPyCode/data/seoul_expense/2016/'\n",
    "    expense_list_year_dir = data_folder + str(year) + '/'\n",
    "    \n",
    "    # 내려받을 폴더가 없다면 폴더 생성\n",
    "    if(os.path.isdir(expense_list_year_dir)):\n",
    "        print(\"데이터 폴더({0})가 이미 있습니다. {0}년 데이터의 다운로드를 시작합니다.\".format(year))\n",
    "    else:\n",
    "        print(\"데이터 폴더({0})가 없어서 생성했습니다. {0}년 데이터의 다운로드를 시작합니다.\".format(year))\n",
    "        # 폴더 생성\n",
    "        pathlib.Path(expense_list_year_dir).mkdir(parents=True, exist_ok=True) \n",
    "        \n",
    "    # 지정한 폴더로 1월 ~ 12월 업무추진비 파일을 다운로드\n",
    "    for k in range(12):\n",
    "        file_name = '{0}{1:02d}_expense_list.{2}'.format(year, k+1, extension)    \n",
    "        url = expense_list_year_url + file_name\n",
    "        print(url)\n",
    "        r = requests.get(url)\n",
    "        with open(expense_list_year_dir + file_name, 'wb') as f:\n",
    "            f.write(r.content)"
   ]
  },
  {
   "cell_type": "markdown",
   "metadata": {},
   "source": [
    "**[16장: 558~559페이지]**"
   ]
  },
  {
   "cell_type": "code",
   "execution_count": 54,
   "metadata": {},
   "outputs": [
    {
     "name": "stdout",
     "output_type": "stream",
     "text": [
      "데이터 폴더(2016)가 없어서 생성했습니다. 2016년 데이터의 다운로드를 시작합니다.\n",
      "https://github.com/seoul-opengov/opengov/raw/master/expense_list2016/201601_expense_list.csv\n",
      "https://github.com/seoul-opengov/opengov/raw/master/expense_list2016/201602_expense_list.csv\n",
      "https://github.com/seoul-opengov/opengov/raw/master/expense_list2016/201603_expense_list.csv\n",
      "https://github.com/seoul-opengov/opengov/raw/master/expense_list2016/201604_expense_list.csv\n",
      "https://github.com/seoul-opengov/opengov/raw/master/expense_list2016/201605_expense_list.csv\n",
      "https://github.com/seoul-opengov/opengov/raw/master/expense_list2016/201606_expense_list.csv\n",
      "https://github.com/seoul-opengov/opengov/raw/master/expense_list2016/201607_expense_list.csv\n",
      "https://github.com/seoul-opengov/opengov/raw/master/expense_list2016/201608_expense_list.csv\n",
      "https://github.com/seoul-opengov/opengov/raw/master/expense_list2016/201609_expense_list.csv\n",
      "https://github.com/seoul-opengov/opengov/raw/master/expense_list2016/201610_expense_list.csv\n",
      "https://github.com/seoul-opengov/opengov/raw/master/expense_list2016/201611_expense_list.csv\n",
      "https://github.com/seoul-opengov/opengov/raw/master/expense_list2016/201612_expense_list.csv\n"
     ]
    }
   ],
   "source": [
    "# 내려받을 업무추진비 데이터의 파일 형식을 지정\n",
    "extension = \"csv\" \n",
    "\n",
    "# 내려받을 업무추진비 데이터의 연도를 지정\n",
    "year = 2016 \n",
    "\n",
    "# 내려받을 업무추진비 데이터의 폴더를 지정\n",
    "data_folder = 'C:/myPyCode/data/seoul_expense/' \n",
    "\n",
    "# 함수를 실행\n",
    "get_seoul_expense_list(extension, year, data_folder)"
   ]
  },
  {
   "cell_type": "markdown",
   "metadata": {},
   "source": [
    "**[16장: 559~560페이지]**"
   ]
  },
  {
   "cell_type": "code",
   "execution_count": 60,
   "metadata": {},
   "outputs": [
    {
     "name": "stdout",
     "output_type": "stream",
     "text": [
      "[폴더 이름] C:/myPyCode/data/seoul_expense/2016/\n",
      "* CSV 파일: ['201601_expense_list.csv', '201602_expense_list.csv', '201603_expense_list.csv', '201604_expense_list.csv', '201605_expense_list.csv', '201606_expense_list.csv', '201607_expense_list.csv', '201608_expense_list.csv', '201609_expense_list.csv', '201610_expense_list.csv', '201611_expense_list.csv', '201612_expense_list.csv']\n"
     ]
    }
   ],
   "source": [
    "import glob\n",
    "\n",
    "path_name = 'C:/myPyCode/data/seoul_expense/2016/' # 폴더 이름\n",
    "\n",
    "# 지정 폴더에서 파일명에 list.csv가 포함된 파일만 지정\n",
    "file_name_for_glob = path_name + \"*list.csv\" \n",
    "\n",
    "csv_files = []\n",
    "for csv_file in glob.glob(file_name_for_glob): \n",
    "    # 반환값에서 폴더는 제거하고 파일 이름만 추출\n",
    "    csv_files.append(csv_file.split(\"\\\\\")[-1]) \n",
    "\n",
    "print(\"[폴더 이름]\", path_name) # 폴더명 출력\n",
    "print(\"* CSV 파일:\", csv_files)"
   ]
  },
  {
   "cell_type": "markdown",
   "metadata": {},
   "source": [
    "**[16장: 560페이지]**"
   ]
  },
  {
   "cell_type": "code",
   "execution_count": 61,
   "metadata": {},
   "outputs": [
    {
     "name": "stdout",
     "output_type": "stream",
     "text": [
      "데이터 폴더(2016)가 이미 있습니다. 2016년 데이터의 다운로드를 시작합니다.\n",
      "https://github.com/seoul-opengov/opengov/raw/master/expense_list2016/201601_expense_list.csv\n",
      "https://github.com/seoul-opengov/opengov/raw/master/expense_list2016/201602_expense_list.csv\n",
      "https://github.com/seoul-opengov/opengov/raw/master/expense_list2016/201603_expense_list.csv\n",
      "https://github.com/seoul-opengov/opengov/raw/master/expense_list2016/201604_expense_list.csv\n",
      "https://github.com/seoul-opengov/opengov/raw/master/expense_list2016/201605_expense_list.csv\n",
      "https://github.com/seoul-opengov/opengov/raw/master/expense_list2016/201606_expense_list.csv\n",
      "https://github.com/seoul-opengov/opengov/raw/master/expense_list2016/201607_expense_list.csv\n",
      "https://github.com/seoul-opengov/opengov/raw/master/expense_list2016/201608_expense_list.csv\n",
      "https://github.com/seoul-opengov/opengov/raw/master/expense_list2016/201609_expense_list.csv\n",
      "https://github.com/seoul-opengov/opengov/raw/master/expense_list2016/201610_expense_list.csv\n",
      "https://github.com/seoul-opengov/opengov/raw/master/expense_list2016/201611_expense_list.csv\n",
      "https://github.com/seoul-opengov/opengov/raw/master/expense_list2016/201612_expense_list.csv\n",
      "데이터 폴더(2017)가 없어서 생성했습니다. 2017년 데이터의 다운로드를 시작합니다.\n",
      "https://github.com/seoul-opengov/opengov/raw/master/expense_list2017/201701_expense_list.csv\n",
      "https://github.com/seoul-opengov/opengov/raw/master/expense_list2017/201702_expense_list.csv\n",
      "https://github.com/seoul-opengov/opengov/raw/master/expense_list2017/201703_expense_list.csv\n",
      "https://github.com/seoul-opengov/opengov/raw/master/expense_list2017/201704_expense_list.csv\n",
      "https://github.com/seoul-opengov/opengov/raw/master/expense_list2017/201705_expense_list.csv\n",
      "https://github.com/seoul-opengov/opengov/raw/master/expense_list2017/201706_expense_list.csv\n",
      "https://github.com/seoul-opengov/opengov/raw/master/expense_list2017/201707_expense_list.csv\n",
      "https://github.com/seoul-opengov/opengov/raw/master/expense_list2017/201708_expense_list.csv\n",
      "https://github.com/seoul-opengov/opengov/raw/master/expense_list2017/201709_expense_list.csv\n",
      "https://github.com/seoul-opengov/opengov/raw/master/expense_list2017/201710_expense_list.csv\n",
      "https://github.com/seoul-opengov/opengov/raw/master/expense_list2017/201711_expense_list.csv\n",
      "https://github.com/seoul-opengov/opengov/raw/master/expense_list2017/201712_expense_list.csv\n",
      "데이터 폴더(2018)가 없어서 생성했습니다. 2018년 데이터의 다운로드를 시작합니다.\n",
      "https://github.com/seoul-opengov/opengov/raw/master/expense_list2018/201801_expense_list.csv\n",
      "https://github.com/seoul-opengov/opengov/raw/master/expense_list2018/201802_expense_list.csv\n",
      "https://github.com/seoul-opengov/opengov/raw/master/expense_list2018/201803_expense_list.csv\n",
      "https://github.com/seoul-opengov/opengov/raw/master/expense_list2018/201804_expense_list.csv\n",
      "https://github.com/seoul-opengov/opengov/raw/master/expense_list2018/201805_expense_list.csv\n",
      "https://github.com/seoul-opengov/opengov/raw/master/expense_list2018/201806_expense_list.csv\n",
      "https://github.com/seoul-opengov/opengov/raw/master/expense_list2018/201807_expense_list.csv\n",
      "https://github.com/seoul-opengov/opengov/raw/master/expense_list2018/201808_expense_list.csv\n",
      "https://github.com/seoul-opengov/opengov/raw/master/expense_list2018/201809_expense_list.csv\n",
      "https://github.com/seoul-opengov/opengov/raw/master/expense_list2018/201810_expense_list.csv\n",
      "https://github.com/seoul-opengov/opengov/raw/master/expense_list2018/201811_expense_list.csv\n",
      "https://github.com/seoul-opengov/opengov/raw/master/expense_list2018/201812_expense_list.csv\n",
      "모든 데이터를 다운로드 받았습니다.\n"
     ]
    }
   ],
   "source": [
    "data_folder = 'C:/myPyCode/data/seoul_expense/'\n",
    "\n",
    "years = [2016, 2017, 2018] # 다운로드받을 연도를 지정\n",
    "\n",
    "extension = \"csv\"\n",
    "# extension = \"xlsx\"\n",
    "# extension = \"xml\"\n",
    "\n",
    "for year in years:\n",
    "    get_seoul_expense_list(extension, year, data_folder)\n",
    "\n",
    "print(\"모든 데이터를 다운로드 받았습니다.\")"
   ]
  },
  {
   "cell_type": "markdown",
   "metadata": {},
   "source": [
    "**[16장: 561페이지]**"
   ]
  },
  {
   "cell_type": "code",
   "execution_count": 95,
   "metadata": {},
   "outputs": [
    {
     "name": "stdout",
     "output_type": "stream",
     "text": [
      "[폴더 이름] C:/myPyCode/data/seoul_expense/2016/\n",
      "* CSV 파일: ['201601_expense_list.csv', '201602_expense_list.csv', '201603_expense_list.csv', '201604_expense_list.csv', '201605_expense_list.csv', '201606_expense_list.csv', '201607_expense_list.csv', '201608_expense_list.csv', '201609_expense_list.csv', '201610_expense_list.csv', '201611_expense_list.csv', '201612_expense_list.csv']\n",
      "[폴더 이름] C:/myPyCode/data/seoul_expense/2017/\n",
      "* CSV 파일: ['201701_expense_list.csv', '201702_expense_list.csv', '201703_expense_list.csv', '201704_expense_list.csv', '201705_expense_list.csv', '201706_expense_list.csv', '201707_expense_list.csv', '201708_expense_list.csv', '201709_expense_list.csv', '201710_expense_list.csv', '201711_expense_list.csv', '201712_expense_list.csv']\n",
      "[폴더 이름] C:/myPyCode/data/seoul_expense/2018/\n",
      "* CSV 파일: ['201801_expense_list.csv', '201802_expense_list.csv', '201803_expense_list.csv', '201804_expense_list.csv', '201805_expense_list.csv', '201806_expense_list.csv', '201807_expense_list.csv', '201808_expense_list.csv', '201809_expense_list.csv', '201810_expense_list.csv', '201811_expense_list.csv', '201812_expense_list.csv']\n"
     ]
    }
   ],
   "source": [
    "import glob\n",
    "\n",
    "data_folder = 'C:/myPyCode/data/seoul_expense/'\n",
    "\n",
    "years = [2016, 2017, 2018] # 다운로드받을 연도를 지정\n",
    "\n",
    "for year in years:\n",
    "    path_name = data_folder + str(year) + \"/\" # 연도별 폴더명을 지정\n",
    "    \n",
    "    # 지정 폴더에서 파일명에 list.csv가 포함된 파일만 지정\n",
    "    file_name_for_glob = path_name + \"*list.csv\"\n",
    "    \n",
    "    csv_files = []\n",
    "    for csv_file in glob.glob(file_name_for_glob): \n",
    "        # 반환값에서 폴더는 제거하고 파일명만 추출\n",
    "        csv_files.append(csv_file.split(\"\\\\\")[-1]) \n",
    "\n",
    "    print(\"[폴더 이름]\", path_name) # 폴더명 출력\n",
    "    print(\"* CSV 파일:\", csv_files)"
   ]
  },
  {
   "cell_type": "markdown",
   "metadata": {},
   "source": [
    "### 데이터 처리"
   ]
  },
  {
   "cell_type": "markdown",
   "metadata": {},
   "source": [
    "#### 수집된 데이터 파일의 구조 분석"
   ]
  },
  {
   "cell_type": "markdown",
   "metadata": {},
   "source": [
    "**[16장: 562페이지]**"
   ]
  },
  {
   "cell_type": "code",
   "execution_count": 3,
   "metadata": {},
   "outputs": [
    {
     "name": "stdout",
     "output_type": "stream",
     "text": [
      "﻿nid,title,url,dept_nm_lvl_1,dept_nm_lvl_2,dept_nm_lvl_3,dept_nm_lvl_4,dept_nm_lvl_5,exec_yr,exec_month,expense_budget,expense_execution,category,exec_dt,exec_loc,target_nm,payment_method,exec_amount\n",
      "\n",
      "7832320,\"2016년 1월 서울특별시장 업무추진비 집행내역 공표\",http://opengov.seoul.go.kr/public/7832320,서울시본청,서울특별시장,,,,2016,1,380200000,13551000,\"시정 관련 간담회 등\",\"행정국 총무과\",\"2016-01-30 12:27\",\"매일한우타운식당(광시면 예당로길)\",\"시정 청년정책 관련 업무협의 간담회\",\"시장 등 12명\",카드,250000\n",
      "\n",
      "7832320,\"2016년 1월 서울특별시장 업무추진비 집행내역 공표\",http://opengov.seoul.go.kr/public/7832320,서울시본청,서울특별시장,,,,2016,1,380200000,13551000,\"시정 관련 간담회 등\",\"행정국 총무과\",\"2016-01-30 08:28\",\"청암회관(예산군 덕산면)\",\"시정 충남, 전북 현장 방문 관련 업무협의\",\"시장 등 6명\",카드,72000\n",
      "\n"
     ]
    }
   ],
   "source": [
    "data_file = 'C:/myPyCode/data/seoul_expense/2016/201601_expense_list.csv'\n",
    "\n",
    "with open(data_file, encoding='utf-8') as f:\n",
    "    line1 = f.readline()\n",
    "    line2 = f.readline()\n",
    "    line3 = f.readline()\n",
    "\n",
    "    print(line1)\n",
    "    print(line2)\n",
    "    print(line3)"
   ]
  },
  {
   "cell_type": "markdown",
   "metadata": {},
   "source": [
    "**[16장: 563페이지]**"
   ]
  },
  {
   "cell_type": "code",
   "execution_count": 4,
   "metadata": {},
   "outputs": [
    {
     "name": "stdout",
     "output_type": "stream",
     "text": [
      "[각 줄의 데이터값의 개수]\n",
      "첫째 줄:18, 둘째 줄:20, 셋째 줄:21\n"
     ]
    }
   ],
   "source": [
    "line1_len = len(line1.split(','))\n",
    "line2_len = len(line2.split(','))\n",
    "line3_len = len(line3.split(','))\n",
    "\n",
    "print(\"[각 줄의 데이터값의 개수]\")\n",
    "print(\"첫째 줄:{}, 둘째 줄:{}, 셋째 줄:{}\".format(line1_len, line2_len, line3_len))"
   ]
  },
  {
   "cell_type": "markdown",
   "metadata": {},
   "source": [
    "**[16장: 563페이지]**"
   ]
  },
  {
   "cell_type": "code",
   "execution_count": 6,
   "metadata": {},
   "outputs": [],
   "source": [
    "def get_value_count(line):\n",
    "    \n",
    "    line_rep_list = []\n",
    "    for k, x in enumerate(line.split('\"')):\n",
    "        if(k % 2 != 0):\n",
    "            x = x.replace(',', '')\n",
    "        line_rep_list.append(x)\n",
    "        \n",
    "    line_rep_str = ''.join(line_rep_list) \n",
    "           \n",
    "    return len(line_rep_str.split(','))"
   ]
  },
  {
   "cell_type": "markdown",
   "metadata": {},
   "source": [
    "**[16장: 564페이지]**"
   ]
  },
  {
   "cell_type": "code",
   "execution_count": 7,
   "metadata": {},
   "outputs": [
    {
     "name": "stdout",
     "output_type": "stream",
     "text": [
      "[각 줄의 데이터값의 개수]\n",
      "첫째 줄:18, 둘째 줄:20, 셋째 줄:20\n"
     ]
    }
   ],
   "source": [
    "line1_len = get_value_count(line1)\n",
    "line2_len = get_value_count(line2)\n",
    "line3_len = get_value_count(line3)\n",
    "\n",
    "print(\"[각 줄의 데이터값의 개수]\")\n",
    "print(\"첫째 줄:{}, 둘째 줄:{}, 셋째 줄:{}\".format(line1_len, line2_len, line3_len))"
   ]
  },
  {
   "cell_type": "markdown",
   "metadata": {},
   "source": [
    "#### 첫 번째 줄의 열 이름과 개수 변경"
   ]
  },
  {
   "cell_type": "markdown",
   "metadata": {},
   "source": [
    "**[16장: 565페이지]**"
   ]
  },
  {
   "cell_type": "code",
   "execution_count": 8,
   "metadata": {},
   "outputs": [],
   "source": [
    "def change_csv_file_first_line_value(old_file_name, new_file_name):\n",
    "    with open(old_file_name, encoding='utf-8') as f:  # 파일을 읽기 모드로 열기\n",
    "        # 전체 데이터를 읽어서 한 줄씩 lines 리스트의 각 요소에 할당\n",
    "        lines = f.read().splitlines()\n",
    "    \n",
    "    # 첫째 줄의 내용을 변경할 열 이름을 지정해서 변경\n",
    "    lines[0] = 'nid,제목,url,부서레벨1,부서레벨2,부서레벨3,부서레벨4,부서레벨5,\\\n",
    "집행연도,집행월,예산,집행,구분,부서명,집행일시,집행장소,집행목적,대상인원,결제방법,집행금액'\n",
    "    \n",
    "    with open(new_file_name, 'w', encoding='utf-8') as f:  # 파일을 쓰기 모드로 열기\n",
    "        # 리스트 내의 각 요소를 개행문자(\\n)로 연결해서 파일로 저장\n",
    "        f.write('\\n'.join(lines))"
   ]
  },
  {
   "cell_type": "markdown",
   "metadata": {},
   "source": [
    "**[16장: 565페이지]**"
   ]
  },
  {
   "cell_type": "code",
   "execution_count": 9,
   "metadata": {},
   "outputs": [],
   "source": [
    "# 기존의 파일\n",
    "old_file_name = 'C:/myPyCode/data/seoul_expense/2016/201601_expense_list.csv'\n",
    "\n",
    "# 새로운 파일\n",
    "new_file_name = 'C:/myPyCode/data/seoul_expense/2016/201601_expense_list_new.csv' \n",
    "\n",
    "# 첫째 줄의 내용을 변경한 새로운 파일 생성\n",
    "change_csv_file_first_line_value(old_file_name, new_file_name)"
   ]
  },
  {
   "cell_type": "markdown",
   "metadata": {},
   "source": [
    "**[16장: 565페이지]**"
   ]
  },
  {
   "cell_type": "code",
   "execution_count": 10,
   "metadata": {},
   "outputs": [
    {
     "name": "stdout",
     "output_type": "stream",
     "text": [
      "nid,제목,url,부서레벨1,부서레벨2,부서레벨3,부서레벨4,부서레벨5,집행연도,집행월,예산,집행,구분,부서명,집행일시,집행장소,집행목적,대상인원,결제방법,집행금액\n",
      "\n",
      "7832320,\"2016년 1월 서울특별시장 업무추진비 집행내역 공표\",http://opengov.seoul.go.kr/public/7832320,서울시본청,서울특별시장,,,,2016,1,380200000,13551000,\"시정 관련 간담회 등\",\"행정국 총무과\",\"2016-01-30 12:27\",\"매일한우타운식당(광시면 예당로길)\",\"시정 청년정책 관련 업무협의 간담회\",\"시장 등 12명\",카드,250000\n",
      "\n",
      "7832320,\"2016년 1월 서울특별시장 업무추진비 집행내역 공표\",http://opengov.seoul.go.kr/public/7832320,서울시본청,서울특별시장,,,,2016,1,380200000,13551000,\"시정 관련 간담회 등\",\"행정국 총무과\",\"2016-01-30 08:28\",\"청암회관(예산군 덕산면)\",\"시정 충남, 전북 현장 방문 관련 업무협의\",\"시장 등 6명\",카드,72000\n",
      "\n"
     ]
    }
   ],
   "source": [
    "with open(new_file_name, encoding='utf-8') as f:  # 파일을 읽기 모드로 열기\n",
    "    for k in range(3):\n",
    "        print(f.readline())"
   ]
  },
  {
   "cell_type": "markdown",
   "metadata": {},
   "source": [
    "**[16장: 566페이지]**"
   ]
  },
  {
   "cell_type": "code",
   "execution_count": 11,
   "metadata": {},
   "outputs": [],
   "source": [
    "# 인자: 연도, 데이터 파일이 있는 폴더\n",
    "def change_year_csv_file_first_line_value(year, data_folder): \n",
    "\n",
    "    # 데이터 파일이 있는 폴더 지정\n",
    "    # ex) 'C:/myPyCode/data/seoul_expense/2016/'\n",
    "    expense_list_year_dir = data_folder + str(year) + '/'\n",
    "    \n",
    "    extension = 'csv' # 확장자 이름\n",
    "    \n",
    "    # 지정한 폴더에 있는 월별 업무추진비 파일에서 첫 번째 줄의 열 이름을 변경 \n",
    "    for k in range(12):\n",
    "        # 기존의 파일 이름 지정\n",
    "        old_file_name = expense_list_year_dir + '{0}{1:02d}_expense_list.{2}'.format(year, k+1, extension) \n",
    "        \n",
    "        # 새로운 파일 이름 지정\n",
    "        new_file_name = expense_list_year_dir + '{0}{1:02d}_expense_list_new.{2}'.format(year, k+1, extension) \n",
    "  \n",
    "        # 첫째 줄의 내용을 변경한 새로운 파일 생성\n",
    "        change_csv_file_first_line_value(old_file_name, new_file_name)"
   ]
  },
  {
   "cell_type": "markdown",
   "metadata": {},
   "source": [
    "**[16장: 566 ~ 567페이지]**"
   ]
  },
  {
   "cell_type": "code",
   "execution_count": 12,
   "metadata": {},
   "outputs": [
    {
     "name": "stdout",
     "output_type": "stream",
     "text": [
      "2016년 데이터의 첫 번째 줄의 열 이름을 변경해서 새 파일에 저장합니다.\n",
      "2017년 데이터의 첫 번째 줄의 열 이름을 변경해서 새 파일에 저장합니다.\n",
      "2018년 데이터의 첫 번째 줄의 열 이름을 변경해서 새 파일에 저장합니다.\n",
      "모든 데이터의 첫 번째 줄의 열 이름을 변경해서 새 파일로 저장했습니다.\n"
     ]
    }
   ],
   "source": [
    "data_folder = 'C:/myPyCode/data/seoul_expense/'\n",
    "\n",
    "years = [2016, 2017, 2018] # 연도를 지정\n",
    "\n",
    "for year in years:\n",
    "    print(\"{}년 데이터의 첫 번째 줄의 열 이름을 변경해서 새 파일에 저장합니다.\".format(year))\n",
    "    change_year_csv_file_first_line_value(year, data_folder)\n",
    "\n",
    "print(\"모든 데이터의 첫 번째 줄의 열 이름을 변경해서 새 파일로 저장했습니다.\")"
   ]
  },
  {
   "cell_type": "markdown",
   "metadata": {},
   "source": [
    "**[16장: 567페이지]**"
   ]
  },
  {
   "cell_type": "code",
   "execution_count": 15,
   "metadata": {},
   "outputs": [
    {
     "name": "stdout",
     "output_type": "stream",
     "text": [
      "[폴더 이름] C:/myPyCode/data/seoul_expense/2016\n",
      "* 새롭게 생성된 CSV 파일: ['201601_expense_list_new.csv', '201602_expense_list_new.csv', '201603_expense_list_new.csv', '201604_expense_list_new.csv', '201605_expense_list_new.csv', '201606_expense_list_new.csv', '201607_expense_list_new.csv', '201608_expense_list_new.csv', '201609_expense_list_new.csv', '201610_expense_list_new.csv', '201611_expense_list_new.csv', '201612_expense_list_new.csv']\n",
      "[폴더 이름] C:/myPyCode/data/seoul_expense/2017\n",
      "* 새롭게 생성된 CSV 파일: ['201701_expense_list_new.csv', '201702_expense_list_new.csv', '201703_expense_list_new.csv', '201704_expense_list_new.csv', '201705_expense_list_new.csv', '201706_expense_list_new.csv', '201707_expense_list_new.csv', '201708_expense_list_new.csv', '201709_expense_list_new.csv', '201710_expense_list_new.csv', '201711_expense_list_new.csv', '201712_expense_list_new.csv']\n",
      "[폴더 이름] C:/myPyCode/data/seoul_expense/2018\n",
      "* 새롭게 생성된 CSV 파일: ['201801_expense_list_new.csv', '201802_expense_list_new.csv', '201803_expense_list_new.csv', '201804_expense_list_new.csv', '201805_expense_list_new.csv', '201806_expense_list_new.csv', '201807_expense_list_new.csv', '201808_expense_list_new.csv', '201809_expense_list_new.csv', '201810_expense_list_new.csv', '201811_expense_list_new.csv', '201812_expense_list_new.csv']\n"
     ]
    }
   ],
   "source": [
    "import glob\n",
    "\n",
    "data_folder = 'C:/myPyCode/data/seoul_expense/'\n",
    "\n",
    "years = [2016, 2017, 2018] # 연도를 지정\n",
    "\n",
    "for year in years:\n",
    "    path_name = data_folder + str(year) # 폴더명을 지정\n",
    "    print(\"[폴더 이름]\", path_name) # 폴더명 출력\n",
    "\n",
    "    new_csv_files = []\n",
    "    \n",
    "    # 지정 폴더에서 파일명에 _new.csv가 포함된 파일만 지정\n",
    "    file_name_for_glob = path_name + \"/*_new.csv\" \n",
    "    \n",
    "    for new_csv_file in glob.glob(file_name_for_glob): \n",
    "        # 반환값에서 폴더는 제거하고 파일 이름만 추출\n",
    "        new_csv_files.append(new_csv_file.split(\"\\\\\")[-1]) \n",
    "    \n",
    "    print(\"* 새롭게 생성된 CSV 파일:\", new_csv_files)"
   ]
  },
  {
   "cell_type": "markdown",
   "metadata": {},
   "source": [
    "#### 데이터의 구조 및 결측치 살펴보기"
   ]
  },
  {
   "cell_type": "markdown",
   "metadata": {},
   "source": [
    "**[16장: 568페이지]**"
   ]
  },
  {
   "cell_type": "code",
   "execution_count": 96,
   "metadata": {},
   "outputs": [],
   "source": [
    "import pandas as pd\n",
    "\n",
    "expense_list2016_dir = 'C:/myPyCode/data/seoul_expense/2016/'\n",
    "file_name = \"201601_expense_list_new.csv\"\n",
    "\n",
    "df = pd.read_csv(expense_list2016_dir + file_name)"
   ]
  },
  {
   "cell_type": "markdown",
   "metadata": {},
   "source": [
    "**[16장: 568페이지]**"
   ]
  },
  {
   "cell_type": "code",
   "execution_count": 97,
   "metadata": {},
   "outputs": [
    {
     "data": {
      "text/html": [
       "<div>\n",
       "<style scoped>\n",
       "    .dataframe tbody tr th:only-of-type {\n",
       "        vertical-align: middle;\n",
       "    }\n",
       "\n",
       "    .dataframe tbody tr th {\n",
       "        vertical-align: top;\n",
       "    }\n",
       "\n",
       "    .dataframe thead th {\n",
       "        text-align: right;\n",
       "    }\n",
       "</style>\n",
       "<table border=\"1\" class=\"dataframe\">\n",
       "  <thead>\n",
       "    <tr style=\"text-align: right;\">\n",
       "      <th></th>\n",
       "      <th>nid</th>\n",
       "      <th>제목</th>\n",
       "      <th>url</th>\n",
       "      <th>부서레벨1</th>\n",
       "      <th>부서레벨2</th>\n",
       "      <th>부서레벨3</th>\n",
       "      <th>부서레벨4</th>\n",
       "      <th>부서레벨5</th>\n",
       "      <th>집행연도</th>\n",
       "      <th>집행월</th>\n",
       "      <th>예산</th>\n",
       "      <th>집행</th>\n",
       "      <th>구분</th>\n",
       "      <th>부서명</th>\n",
       "      <th>집행일시</th>\n",
       "      <th>집행장소</th>\n",
       "      <th>집행목적</th>\n",
       "      <th>대상인원</th>\n",
       "      <th>결제방법</th>\n",
       "      <th>집행금액</th>\n",
       "    </tr>\n",
       "  </thead>\n",
       "  <tbody>\n",
       "    <tr>\n",
       "      <th>0</th>\n",
       "      <td>7832320</td>\n",
       "      <td>2016년 1월 서울특별시장 업무추진비 집행내역 공표</td>\n",
       "      <td>http://opengov.seoul.go.kr/public/7832320</td>\n",
       "      <td>서울시본청</td>\n",
       "      <td>서울특별시장</td>\n",
       "      <td>NaN</td>\n",
       "      <td>NaN</td>\n",
       "      <td>NaN</td>\n",
       "      <td>2016</td>\n",
       "      <td>1</td>\n",
       "      <td>380200000.0</td>\n",
       "      <td>13551000.0</td>\n",
       "      <td>시정 관련 간담회 등</td>\n",
       "      <td>행정국 총무과</td>\n",
       "      <td>2016-01-30 12:27</td>\n",
       "      <td>매일한우타운식당(광시면 예당로길)</td>\n",
       "      <td>시정 청년정책 관련 업무협의 간담회</td>\n",
       "      <td>시장 등 12명</td>\n",
       "      <td>카드</td>\n",
       "      <td>250000</td>\n",
       "    </tr>\n",
       "    <tr>\n",
       "      <th>1</th>\n",
       "      <td>7832320</td>\n",
       "      <td>2016년 1월 서울특별시장 업무추진비 집행내역 공표</td>\n",
       "      <td>http://opengov.seoul.go.kr/public/7832320</td>\n",
       "      <td>서울시본청</td>\n",
       "      <td>서울특별시장</td>\n",
       "      <td>NaN</td>\n",
       "      <td>NaN</td>\n",
       "      <td>NaN</td>\n",
       "      <td>2016</td>\n",
       "      <td>1</td>\n",
       "      <td>380200000.0</td>\n",
       "      <td>13551000.0</td>\n",
       "      <td>시정 관련 간담회 등</td>\n",
       "      <td>행정국 총무과</td>\n",
       "      <td>2016-01-30 08:28</td>\n",
       "      <td>청암회관(예산군 덕산면)</td>\n",
       "      <td>시정 충남, 전북 현장 방문 관련 업무협의</td>\n",
       "      <td>시장 등 6명</td>\n",
       "      <td>카드</td>\n",
       "      <td>72000</td>\n",
       "    </tr>\n",
       "  </tbody>\n",
       "</table>\n",
       "</div>"
      ],
      "text/plain": [
       "       nid                             제목  \\\n",
       "0  7832320  2016년 1월 서울특별시장 업무추진비 집행내역 공표   \n",
       "1  7832320  2016년 1월 서울특별시장 업무추진비 집행내역 공표   \n",
       "\n",
       "                                         url  부서레벨1   부서레벨2  부서레벨3  부서레벨4  \\\n",
       "0  http://opengov.seoul.go.kr/public/7832320  서울시본청  서울특별시장    NaN    NaN   \n",
       "1  http://opengov.seoul.go.kr/public/7832320  서울시본청  서울특별시장    NaN    NaN   \n",
       "\n",
       "   부서레벨5  집행연도  집행월           예산          집행           구분      부서명  \\\n",
       "0    NaN  2016    1  380200000.0  13551000.0  시정 관련 간담회 등  행정국 총무과   \n",
       "1    NaN  2016    1  380200000.0  13551000.0  시정 관련 간담회 등  행정국 총무과   \n",
       "\n",
       "               집행일시                집행장소                     집행목적      대상인원  \\\n",
       "0  2016-01-30 12:27  매일한우타운식당(광시면 예당로길)      시정 청년정책 관련 업무협의 간담회  시장 등 12명   \n",
       "1  2016-01-30 08:28       청암회관(예산군 덕산면)  시정 충남, 전북 현장 방문 관련 업무협의   시장 등 6명   \n",
       "\n",
       "  결제방법    집행금액  \n",
       "0   카드  250000  \n",
       "1   카드   72000  "
      ]
     },
     "execution_count": 97,
     "metadata": {},
     "output_type": "execute_result"
    }
   ],
   "source": [
    "df.head(2)"
   ]
  },
  {
   "cell_type": "markdown",
   "metadata": {},
   "source": [
    "**[16장: 569페이지]**"
   ]
  },
  {
   "cell_type": "code",
   "execution_count": 21,
   "metadata": {},
   "outputs": [],
   "source": [
    "import pandas as pd\n",
    "\n",
    "year = 2016\n",
    "expense_list_year_dir = 'C:/myPyCode/data/seoul_expense/' + str(year) + '/'\n",
    "\n",
    "df_year = pd.DataFrame()\n",
    "for k in range(12):\n",
    "    \n",
    "    # 파일 이름 지정\n",
    "    file_name = \"{0}{1:02d}_expense_list_new.csv\".format(year, k+1)\n",
    "    \n",
    "    # pandas DataFrame 형식으로 csv 데이터 불러오기\n",
    "    df_month = pd.read_csv(expense_list_year_dir + file_name)\n",
    "    \n",
    "    # df_year에 df_month를 세로 방향으로 추가해서 다시 df_year에 할당\n",
    "    # 통합된 dataFrame의 순서대로 index를 할당하기 위해서 `ignore_index = True` 옵션 지정\n",
    "    df_year = df_year.append(df_month, ignore_index = True)"
   ]
  },
  {
   "cell_type": "markdown",
   "metadata": {},
   "source": [
    "**[16장: 569페이지]**"
   ]
  },
  {
   "cell_type": "code",
   "execution_count": 22,
   "metadata": {},
   "outputs": [
    {
     "data": {
      "text/html": [
       "<div>\n",
       "<style scoped>\n",
       "    .dataframe tbody tr th:only-of-type {\n",
       "        vertical-align: middle;\n",
       "    }\n",
       "\n",
       "    .dataframe tbody tr th {\n",
       "        vertical-align: top;\n",
       "    }\n",
       "\n",
       "    .dataframe thead th {\n",
       "        text-align: right;\n",
       "    }\n",
       "</style>\n",
       "<table border=\"1\" class=\"dataframe\">\n",
       "  <thead>\n",
       "    <tr style=\"text-align: right;\">\n",
       "      <th></th>\n",
       "      <th>nid</th>\n",
       "      <th>제목</th>\n",
       "      <th>url</th>\n",
       "      <th>부서레벨1</th>\n",
       "      <th>부서레벨2</th>\n",
       "      <th>부서레벨3</th>\n",
       "      <th>부서레벨4</th>\n",
       "      <th>부서레벨5</th>\n",
       "      <th>집행연도</th>\n",
       "      <th>집행월</th>\n",
       "      <th>예산</th>\n",
       "      <th>집행</th>\n",
       "      <th>구분</th>\n",
       "      <th>부서명</th>\n",
       "      <th>집행일시</th>\n",
       "      <th>집행장소</th>\n",
       "      <th>집행목적</th>\n",
       "      <th>대상인원</th>\n",
       "      <th>결제방법</th>\n",
       "      <th>집행금액</th>\n",
       "    </tr>\n",
       "  </thead>\n",
       "  <tbody>\n",
       "    <tr>\n",
       "      <th>0</th>\n",
       "      <td>7832320</td>\n",
       "      <td>2016년 1월 서울특별시장 업무추진비 집행내역 공표</td>\n",
       "      <td>http://opengov.seoul.go.kr/public/7832320</td>\n",
       "      <td>서울시본청</td>\n",
       "      <td>서울특별시장</td>\n",
       "      <td>NaN</td>\n",
       "      <td>NaN</td>\n",
       "      <td>NaN</td>\n",
       "      <td>2016</td>\n",
       "      <td>1</td>\n",
       "      <td>380200000.0</td>\n",
       "      <td>13551000.0</td>\n",
       "      <td>시정 관련 간담회 등</td>\n",
       "      <td>행정국 총무과</td>\n",
       "      <td>2016-01-30 12:27</td>\n",
       "      <td>매일한우타운식당(광시면 예당로길)</td>\n",
       "      <td>시정 청년정책 관련 업무협의 간담회</td>\n",
       "      <td>시장 등 12명</td>\n",
       "      <td>카드</td>\n",
       "      <td>250000</td>\n",
       "    </tr>\n",
       "    <tr>\n",
       "      <th>1</th>\n",
       "      <td>7832320</td>\n",
       "      <td>2016년 1월 서울특별시장 업무추진비 집행내역 공표</td>\n",
       "      <td>http://opengov.seoul.go.kr/public/7832320</td>\n",
       "      <td>서울시본청</td>\n",
       "      <td>서울특별시장</td>\n",
       "      <td>NaN</td>\n",
       "      <td>NaN</td>\n",
       "      <td>NaN</td>\n",
       "      <td>2016</td>\n",
       "      <td>1</td>\n",
       "      <td>380200000.0</td>\n",
       "      <td>13551000.0</td>\n",
       "      <td>시정 관련 간담회 등</td>\n",
       "      <td>행정국 총무과</td>\n",
       "      <td>2016-01-30 08:28</td>\n",
       "      <td>청암회관(예산군 덕산면)</td>\n",
       "      <td>시정 충남, 전북 현장 방문 관련 업무협의</td>\n",
       "      <td>시장 등 6명</td>\n",
       "      <td>카드</td>\n",
       "      <td>72000</td>\n",
       "    </tr>\n",
       "  </tbody>\n",
       "</table>\n",
       "</div>"
      ],
      "text/plain": [
       "       nid                             제목  \\\n",
       "0  7832320  2016년 1월 서울특별시장 업무추진비 집행내역 공표   \n",
       "1  7832320  2016년 1월 서울특별시장 업무추진비 집행내역 공표   \n",
       "\n",
       "                                         url  부서레벨1   부서레벨2 부서레벨3 부서레벨4 부서레벨5  \\\n",
       "0  http://opengov.seoul.go.kr/public/7832320  서울시본청  서울특별시장   NaN   NaN   NaN   \n",
       "1  http://opengov.seoul.go.kr/public/7832320  서울시본청  서울특별시장   NaN   NaN   NaN   \n",
       "\n",
       "   집행연도  집행월           예산          집행           구분      부서명              집행일시  \\\n",
       "0  2016    1  380200000.0  13551000.0  시정 관련 간담회 등  행정국 총무과  2016-01-30 12:27   \n",
       "1  2016    1  380200000.0  13551000.0  시정 관련 간담회 등  행정국 총무과  2016-01-30 08:28   \n",
       "\n",
       "                 집행장소                     집행목적      대상인원 결제방법    집행금액  \n",
       "0  매일한우타운식당(광시면 예당로길)      시정 청년정책 관련 업무협의 간담회  시장 등 12명   카드  250000  \n",
       "1       청암회관(예산군 덕산면)  시정 충남, 전북 현장 방문 관련 업무협의   시장 등 6명   카드   72000  "
      ]
     },
     "execution_count": 22,
     "metadata": {},
     "output_type": "execute_result"
    }
   ],
   "source": [
    "df_year.head(2)"
   ]
  },
  {
   "cell_type": "markdown",
   "metadata": {},
   "source": [
    "**[16장: 569페이지]**"
   ]
  },
  {
   "cell_type": "code",
   "execution_count": 23,
   "metadata": {},
   "outputs": [
    {
     "data": {
      "text/html": [
       "<div>\n",
       "<style scoped>\n",
       "    .dataframe tbody tr th:only-of-type {\n",
       "        vertical-align: middle;\n",
       "    }\n",
       "\n",
       "    .dataframe tbody tr th {\n",
       "        vertical-align: top;\n",
       "    }\n",
       "\n",
       "    .dataframe thead th {\n",
       "        text-align: right;\n",
       "    }\n",
       "</style>\n",
       "<table border=\"1\" class=\"dataframe\">\n",
       "  <thead>\n",
       "    <tr style=\"text-align: right;\">\n",
       "      <th></th>\n",
       "      <th>nid</th>\n",
       "      <th>제목</th>\n",
       "      <th>url</th>\n",
       "      <th>부서레벨1</th>\n",
       "      <th>부서레벨2</th>\n",
       "      <th>부서레벨3</th>\n",
       "      <th>부서레벨4</th>\n",
       "      <th>부서레벨5</th>\n",
       "      <th>집행연도</th>\n",
       "      <th>집행월</th>\n",
       "      <th>예산</th>\n",
       "      <th>집행</th>\n",
       "      <th>구분</th>\n",
       "      <th>부서명</th>\n",
       "      <th>집행일시</th>\n",
       "      <th>집행장소</th>\n",
       "      <th>집행목적</th>\n",
       "      <th>대상인원</th>\n",
       "      <th>결제방법</th>\n",
       "      <th>집행금액</th>\n",
       "    </tr>\n",
       "  </thead>\n",
       "  <tbody>\n",
       "    <tr>\n",
       "      <th>18338</th>\n",
       "      <td>10796989</td>\n",
       "      <td>2016년 12월 업무추진비 집행내역(건축기획과)</td>\n",
       "      <td>http://opengov.seoul.go.kr/public/10796989</td>\n",
       "      <td>서울시본청</td>\n",
       "      <td>주택건축국</td>\n",
       "      <td>건축기획과</td>\n",
       "      <td>NaN</td>\n",
       "      <td>NaN</td>\n",
       "      <td>2016</td>\n",
       "      <td>12</td>\n",
       "      <td>NaN</td>\n",
       "      <td>NaN</td>\n",
       "      <td>NaN</td>\n",
       "      <td>주택건축국 건축기획과</td>\n",
       "      <td>2016-12-06 15:11</td>\n",
       "      <td>엠엠피아니㈜  공공구매</td>\n",
       "      <td>내방 민원인 접대를 위한 차 및 다과류등 구입</td>\n",
       "      <td>건축기획과장외 37명</td>\n",
       "      <td>카드</td>\n",
       "      <td>350000</td>\n",
       "    </tr>\n",
       "    <tr>\n",
       "      <th>18339</th>\n",
       "      <td>10796989</td>\n",
       "      <td>2016년 12월 업무추진비 집행내역(건축기획과)</td>\n",
       "      <td>http://opengov.seoul.go.kr/public/10796989</td>\n",
       "      <td>서울시본청</td>\n",
       "      <td>주택건축국</td>\n",
       "      <td>건축기획과</td>\n",
       "      <td>NaN</td>\n",
       "      <td>NaN</td>\n",
       "      <td>2016</td>\n",
       "      <td>12</td>\n",
       "      <td>NaN</td>\n",
       "      <td>NaN</td>\n",
       "      <td>NaN</td>\n",
       "      <td>주택건축국 건축기획과</td>\n",
       "      <td>2016-12-06 10:08</td>\n",
       "      <td>한국도서보급㈜ (중구 남대문로 4)</td>\n",
       "      <td>2016.10~12월 생일직원 격려품 구입비 지급</td>\n",
       "      <td>이병희외 7명</td>\n",
       "      <td>카드</td>\n",
       "      <td>147520</td>\n",
       "    </tr>\n",
       "  </tbody>\n",
       "</table>\n",
       "</div>"
      ],
      "text/plain": [
       "            nid                           제목  \\\n",
       "18338  10796989  2016년 12월 업무추진비 집행내역(건축기획과)   \n",
       "18339  10796989  2016년 12월 업무추진비 집행내역(건축기획과)   \n",
       "\n",
       "                                              url  부서레벨1  부서레벨2  부서레벨3 부서레벨4  \\\n",
       "18338  http://opengov.seoul.go.kr/public/10796989  서울시본청  주택건축국  건축기획과   NaN   \n",
       "18339  http://opengov.seoul.go.kr/public/10796989  서울시본청  주택건축국  건축기획과   NaN   \n",
       "\n",
       "      부서레벨5  집행연도  집행월  예산  집행   구분          부서명              집행일시  \\\n",
       "18338   NaN  2016   12 NaN NaN  NaN  주택건축국 건축기획과  2016-12-06 15:11   \n",
       "18339   NaN  2016   12 NaN NaN  NaN  주택건축국 건축기획과  2016-12-06 10:08   \n",
       "\n",
       "                      집행장소                         집행목적         대상인원 결제방법  \\\n",
       "18338         엠엠피아니㈜  공공구매    내방 민원인 접대를 위한 차 및 다과류등 구입  건축기획과장외 37명   카드   \n",
       "18339  한국도서보급㈜ (중구 남대문로 4)  2016.10~12월 생일직원 격려품 구입비 지급      이병희외 7명   카드   \n",
       "\n",
       "         집행금액  \n",
       "18338  350000  \n",
       "18339  147520  "
      ]
     },
     "execution_count": 23,
     "metadata": {},
     "output_type": "execute_result"
    }
   ],
   "source": [
    "df_year.tail(2)"
   ]
  },
  {
   "cell_type": "markdown",
   "metadata": {},
   "source": [
    "**[16장: 570페이지]**"
   ]
  },
  {
   "cell_type": "code",
   "execution_count": 24,
   "metadata": {},
   "outputs": [
    {
     "name": "stdout",
     "output_type": "stream",
     "text": [
      "<class 'pandas.core.frame.DataFrame'>\n",
      "RangeIndex: 18340 entries, 0 to 18339\n",
      "Data columns (total 20 columns):\n",
      "nid      18340 non-null int64\n",
      "제목       18340 non-null object\n",
      "url      18340 non-null object\n",
      "부서레벨1    18340 non-null object\n",
      "부서레벨2    18340 non-null object\n",
      "부서레벨3    14137 non-null object\n",
      "부서레벨4    4097 non-null object\n",
      "부서레벨5    819 non-null object\n",
      "집행연도     18340 non-null int64\n",
      "집행월      18340 non-null int64\n",
      "예산       1248 non-null float64\n",
      "집행       1123 non-null float64\n",
      "구분       3102 non-null object\n",
      "부서명      18340 non-null object\n",
      "집행일시     18340 non-null object\n",
      "집행장소     18119 non-null object\n",
      "집행목적     18340 non-null object\n",
      "대상인원     18098 non-null object\n",
      "결제방법     18330 non-null object\n",
      "집행금액     18340 non-null int64\n",
      "dtypes: float64(2), int64(4), object(14)\n",
      "memory usage: 2.8+ MB\n"
     ]
    }
   ],
   "source": [
    "df_year.info()"
   ]
  },
  {
   "cell_type": "markdown",
   "metadata": {},
   "source": [
    "**[16장: 571페이지]**"
   ]
  },
  {
   "cell_type": "code",
   "execution_count": 31,
   "metadata": {},
   "outputs": [
    {
     "data": {
      "text/plain": [
       "nid          0\n",
       "제목           0\n",
       "url          0\n",
       "부서레벨1        0\n",
       "부서레벨2        0\n",
       "부서레벨3     4203\n",
       "부서레벨4    14243\n",
       "부서레벨5    17521\n",
       "집행연도         0\n",
       "집행월          0\n",
       "예산       17092\n",
       "집행       17217\n",
       "구분       15238\n",
       "부서명          0\n",
       "집행일시         0\n",
       "집행장소       221\n",
       "집행목적         0\n",
       "대상인원       242\n",
       "결제방법        10\n",
       "집행금액         0\n",
       "dtype: int64"
      ]
     },
     "execution_count": 31,
     "metadata": {},
     "output_type": "execute_result"
    }
   ],
   "source": [
    "df_year.isna().sum()"
   ]
  },
  {
   "cell_type": "markdown",
   "metadata": {},
   "source": [
    "**[16장: 572페이지]**"
   ]
  },
  {
   "cell_type": "code",
   "execution_count": 32,
   "metadata": {},
   "outputs": [
    {
     "data": {
      "text/html": [
       "<div>\n",
       "<style scoped>\n",
       "    .dataframe tbody tr th:only-of-type {\n",
       "        vertical-align: middle;\n",
       "    }\n",
       "\n",
       "    .dataframe tbody tr th {\n",
       "        vertical-align: top;\n",
       "    }\n",
       "\n",
       "    .dataframe thead th {\n",
       "        text-align: right;\n",
       "    }\n",
       "</style>\n",
       "<table border=\"1\" class=\"dataframe\">\n",
       "  <thead>\n",
       "    <tr style=\"text-align: right;\">\n",
       "      <th></th>\n",
       "      <th>제목</th>\n",
       "      <th>부서레벨1</th>\n",
       "      <th>부서레벨2</th>\n",
       "      <th>집행연도</th>\n",
       "      <th>집행월</th>\n",
       "      <th>부서명</th>\n",
       "      <th>집행일시</th>\n",
       "      <th>집행장소</th>\n",
       "      <th>집행목적</th>\n",
       "      <th>대상인원</th>\n",
       "      <th>결제방법</th>\n",
       "      <th>집행금액</th>\n",
       "    </tr>\n",
       "  </thead>\n",
       "  <tbody>\n",
       "    <tr>\n",
       "      <th>0</th>\n",
       "      <td>2016년 1월 서울특별시장 업무추진비 집행내역 공표</td>\n",
       "      <td>서울시본청</td>\n",
       "      <td>서울특별시장</td>\n",
       "      <td>2016</td>\n",
       "      <td>1</td>\n",
       "      <td>행정국 총무과</td>\n",
       "      <td>2016-01-30 12:27</td>\n",
       "      <td>매일한우타운식당(광시면 예당로길)</td>\n",
       "      <td>시정 청년정책 관련 업무협의 간담회</td>\n",
       "      <td>시장 등 12명</td>\n",
       "      <td>카드</td>\n",
       "      <td>250000</td>\n",
       "    </tr>\n",
       "    <tr>\n",
       "      <th>1</th>\n",
       "      <td>2016년 1월 서울특별시장 업무추진비 집행내역 공표</td>\n",
       "      <td>서울시본청</td>\n",
       "      <td>서울특별시장</td>\n",
       "      <td>2016</td>\n",
       "      <td>1</td>\n",
       "      <td>행정국 총무과</td>\n",
       "      <td>2016-01-30 08:28</td>\n",
       "      <td>청암회관(예산군 덕산면)</td>\n",
       "      <td>시정 충남, 전북 현장 방문 관련 업무협의</td>\n",
       "      <td>시장 등 6명</td>\n",
       "      <td>카드</td>\n",
       "      <td>72000</td>\n",
       "    </tr>\n",
       "  </tbody>\n",
       "</table>\n",
       "</div>"
      ],
      "text/plain": [
       "                              제목  부서레벨1   부서레벨2  집행연도  집행월      부서명  \\\n",
       "0  2016년 1월 서울특별시장 업무추진비 집행내역 공표  서울시본청  서울특별시장  2016    1  행정국 총무과   \n",
       "1  2016년 1월 서울특별시장 업무추진비 집행내역 공표  서울시본청  서울특별시장  2016    1  행정국 총무과   \n",
       "\n",
       "               집행일시                집행장소                     집행목적      대상인원  \\\n",
       "0  2016-01-30 12:27  매일한우타운식당(광시면 예당로길)      시정 청년정책 관련 업무협의 간담회  시장 등 12명   \n",
       "1  2016-01-30 08:28       청암회관(예산군 덕산면)  시정 충남, 전북 현장 방문 관련 업무협의   시장 등 6명   \n",
       "\n",
       "  결제방법    집행금액  \n",
       "0   카드  250000  \n",
       "1   카드   72000  "
      ]
     },
     "execution_count": 32,
     "metadata": {},
     "output_type": "execute_result"
    }
   ],
   "source": [
    "df_year_drop = df_year.drop(columns=['nid', 'url', '부서레벨3', '부서레벨4', '부서레벨5', \n",
    "                                     '예산', '집행', '구분'])\n",
    "df_year_drop.head(2)"
   ]
  },
  {
   "cell_type": "markdown",
   "metadata": {},
   "source": [
    "**[16장: 572페이지]**"
   ]
  },
  {
   "cell_type": "code",
   "execution_count": 33,
   "metadata": {},
   "outputs": [],
   "source": [
    "year = 2016\n",
    "expense_list_year_dir = 'C:/myPyCode/data/seoul_expense/' + str(year) + '/'\n",
    "\n",
    "expense_list_tidy_file = \"{}_expense_list_tidy.csv\".format(year)\n",
    "df_year_drop.to_csv(expense_list_year_dir + expense_list_tidy_file, index = False)"
   ]
  },
  {
   "cell_type": "markdown",
   "metadata": {},
   "source": [
    "**[16장: 572페이지]**"
   ]
  },
  {
   "cell_type": "code",
   "execution_count": 34,
   "metadata": {},
   "outputs": [
    {
     "name": "stdout",
     "output_type": "stream",
     "text": [
      "C:/myPyCode/data/seoul_expense/2016/2016_expense_list_tidy.csv\n"
     ]
    },
    {
     "data": {
      "text/plain": [
       "True"
      ]
     },
     "execution_count": 34,
     "metadata": {},
     "output_type": "execute_result"
    }
   ],
   "source": [
    "import os\n",
    "\n",
    "file_name = expense_list_year_dir + expense_list_tidy_file\n",
    "print(file_name)\n",
    "os.path.isfile(file_name)"
   ]
  },
  {
   "cell_type": "markdown",
   "metadata": {},
   "source": [
    "**[16장: 573페이지]**"
   ]
  },
  {
   "cell_type": "code",
   "execution_count": 35,
   "metadata": {},
   "outputs": [],
   "source": [
    "import pandas as pd\n",
    "\n",
    "def select_columns_save_file(year, data_folder, drop_columns_list):\n",
    "    \n",
    "    expense_list_year_dir = data_folder + str(year) + '/'\n",
    "    expense_list_tidy_file = \"{}_expense_list_tidy.csv\".format(year)\n",
    "    df_year = pd.DataFrame()\n",
    "    \n",
    "    for k in range(12):\n",
    "        # 파일 이름 지정\n",
    "        file_name = \"{0}{1:02d}_expense_list_new.csv\".format(year, k+1)\n",
    "        \n",
    "        # aDtaFrame 형식으로 csv 데이터 불러오기\n",
    "        df_month = pd.read_csv(expense_list_year_dir + file_name)\n",
    "        \n",
    "        # fd_year에 df_month를 새로 추가해서 다시 df_year에 할당\n",
    "        # 통합된 adtaFrame의 순서대로 index를 할당하기 위해서 `ignore_index = True` 옵션 지정\n",
    "        df_year = df_year.append(df_month, ignore_index = True)\n",
    "        \n",
    "    df_year_drop = df_year.drop(columns = drop_columns_list)\n",
    "    new_file_name = expense_list_year_dir + expense_list_tidy_file\n",
    "    df_year_drop.to_csv(new_file_name, index = False)\n",
    "    \n",
    "    print(\"==> {} 파일을 생성했습니다.\".format(expense_list_tidy_file))"
   ]
  },
  {
   "cell_type": "markdown",
   "metadata": {},
   "source": [
    "**[16장: 573페이지]**"
   ]
  },
  {
   "cell_type": "code",
   "execution_count": 36,
   "metadata": {},
   "outputs": [
    {
     "name": "stdout",
     "output_type": "stream",
     "text": [
      "2016년 데이터를 정리해서 저장하고 있습니다.\n",
      "==> 2016_expense_list_tidy.csv 파일을 생성했습니다.\n",
      "2017년 데이터를 정리해서 저장하고 있습니다.\n",
      "==> 2017_expense_list_tidy.csv 파일을 생성했습니다.\n",
      "2018년 데이터를 정리해서 저장하고 있습니다.\n",
      "==> 2018_expense_list_tidy.csv 파일을 생성했습니다.\n",
      "모든 연도의 데이터를 정리해서 파일로 저장했습니다.\n"
     ]
    }
   ],
   "source": [
    "data_folder = 'C:/myPyCode/data/seoul_expense/'\n",
    "years = [2016, 2017, 2018]\n",
    "drop_columns_list = ['nid', 'url','부서레벨3', '부서레벨4', '부서레벨5', '예산', '집행', '구분']\n",
    "\n",
    "for year in years:\n",
    "    print(\"{}년 데이터를 정리해서 저장하고 있습니다.\".format(year))\n",
    "    select_columns_save_file(year, data_folder, drop_columns_list)\n",
    "print(\"모든 연도의 데이터를 정리해서 파일로 저장했습니다.\")"
   ]
  },
  {
   "cell_type": "markdown",
   "metadata": {},
   "source": [
    "**[16장: 574페이지]**"
   ]
  },
  {
   "cell_type": "code",
   "execution_count": 37,
   "metadata": {},
   "outputs": [
    {
     "name": "stdout",
     "output_type": "stream",
     "text": [
      "C:/myPyCode/data/seoul_expense/2016/2016_expense_list_tidy.csv ==> True\n",
      "C:/myPyCode/data/seoul_expense/2017/2017_expense_list_tidy.csv ==> True\n",
      "C:/myPyCode/data/seoul_expense/2018/2018_expense_list_tidy.csv ==> True\n"
     ]
    }
   ],
   "source": [
    "import os\n",
    "\n",
    "years = [2016, 2017, 2018]\n",
    "\n",
    "for year in years:\n",
    "    \n",
    "    expense_list_year_dir = data_folder + str(year) + '/'\n",
    "    expense_list_tidy_file = \"{}_expense_list_tidy.csv\".format(year)\n",
    "\n",
    "    file_name = expense_list_year_dir + expense_list_tidy_file\n",
    "    print(file_name, \"==> \", end=\"\")\n",
    "    print(os.path.isfile(file_name))"
   ]
  },
  {
   "cell_type": "markdown",
   "metadata": {},
   "source": [
    "**[16장: 574 ~ 575페이지]**"
   ]
  },
  {
   "cell_type": "code",
   "execution_count": 38,
   "metadata": {},
   "outputs": [],
   "source": [
    "import os\n",
    "from datetime import datetime\n",
    "\n",
    "def get_file_info(year, data_folder):\n",
    "    expense_list_year_dir = data_folder + str(year) + '/'\n",
    "    expense_list_tidy_file = \"{}_expense_list_tidy.csv\".format(year)\n",
    "    \n",
    "    path_file_name = expense_list_year_dir + expense_list_tidy_file\n",
    "    print(path_file_name)\n",
    "    result = os.path.isfile(path_file_name)\n",
    "\n",
    "    # 파일 수정 시간\n",
    "    modified_time = datetime.fromtimestamp(os.path.getmtime(path_file_name))\n",
    "    \n",
    "    # 파일 생성 시간\n",
    "    created_time = datetime.fromtimestamp(os.path.getctime(path_file_name)) \n",
    "    \n",
    "     # 파일 크기\n",
    "    file_size = os.path.getsize(path_file_name)\n",
    "\n",
    "    if(result == True):\n",
    "        print(\"[생성한 CSV 데이터 파일의 정보]\")\n",
    "        print('* 폴더 위치 :', expense_list_year_dir)\n",
    "        print('* 파일 이름 :', expense_list_tidy_file)\n",
    "        print('* 수정 시간 :', modified_time.strftime('%Y-%m-%d %H:%M:%S'))\n",
    "        print('* 생성 시간 :', created_time.strftime('%Y-%m-%d %H:%M:%S'))\n",
    "        print('* 파일 크기 : {0:,} 바이트'.format(file_size))"
   ]
  },
  {
   "cell_type": "markdown",
   "metadata": {},
   "source": [
    "**[16장: 575페이지]**"
   ]
  },
  {
   "cell_type": "code",
   "execution_count": 39,
   "metadata": {},
   "outputs": [
    {
     "name": "stdout",
     "output_type": "stream",
     "text": [
      "C:/myPyCode/data/seoul_expense/2016/2016_expense_list_tidy.csv\n",
      "[생성한 CSV 데이터 파일의 정보]\n",
      "* 폴더 위치 : C:/myPyCode/data/seoul_expense/2016/\n",
      "* 파일 이름 : 2016_expense_list_tidy.csv\n",
      "* 수정 시간 : 2019-04-07 14:38:00\n",
      "* 생성 시간 : 2019-04-07 14:18:13\n",
      "* 파일 크기 : 5,349,798 바이트\n",
      "\n",
      "C:/myPyCode/data/seoul_expense/2017/2017_expense_list_tidy.csv\n",
      "[생성한 CSV 데이터 파일의 정보]\n",
      "* 폴더 위치 : C:/myPyCode/data/seoul_expense/2017/\n",
      "* 파일 이름 : 2017_expense_list_tidy.csv\n",
      "* 수정 시간 : 2019-04-07 14:38:03\n",
      "* 생성 시간 : 2019-04-07 14:18:16\n",
      "* 파일 크기 : 21,974,397 바이트\n",
      "\n",
      "C:/myPyCode/data/seoul_expense/2018/2018_expense_list_tidy.csv\n",
      "[생성한 CSV 데이터 파일의 정보]\n",
      "* 폴더 위치 : C:/myPyCode/data/seoul_expense/2018/\n",
      "* 파일 이름 : 2018_expense_list_tidy.csv\n",
      "* 수정 시간 : 2019-04-07 14:38:08\n",
      "* 생성 시간 : 2019-04-07 14:18:19\n",
      "* 파일 크기 : 25,271,113 바이트\n",
      "\n"
     ]
    }
   ],
   "source": [
    "data_folder = 'C:/myPyCode/data/seoul_expense/'\n",
    "years = [2016, 2017, 2018]\n",
    "\n",
    "for year in years:\n",
    "    \n",
    "    get_file_info(year, data_folder)\n",
    "    print(\"\")"
   ]
  },
  {
   "cell_type": "markdown",
   "metadata": {
    "toc-hr-collapsed": false
   },
   "source": [
    "### 데이터 분석"
   ]
  },
  {
   "cell_type": "markdown",
   "metadata": {},
   "source": [
    "**[16장: 576 ~ 577페이지]**"
   ]
  },
  {
   "cell_type": "code",
   "execution_count": 40,
   "metadata": {},
   "outputs": [],
   "source": [
    "import pandas as pd\n",
    "\n",
    "data_folder = 'C:/myPyCode/data/seoul_expense/'\n",
    "years = [2016, 2017, 2018]\n",
    "\n",
    "df_expense_all = pd.DataFrame()\n",
    "\n",
    "for year in years:\n",
    "    expense_list_year_dir = data_folder + str(year) + '/'\n",
    "    expense_list_tidy_file = \"{}_expense_list_tidy.csv\".format(year)\n",
    "    \n",
    "    path_file_name = expense_list_year_dir + expense_list_tidy_file\n",
    "    \n",
    "    df_expense = pd.read_csv(path_file_name)\n",
    "    df_expense_all = df_expense_all.append(df_expense, ignore_index = True) "
   ]
  },
  {
   "cell_type": "markdown",
   "metadata": {},
   "source": [
    "**[16장: 577페이지]**"
   ]
  },
  {
   "cell_type": "code",
   "execution_count": 41,
   "metadata": {},
   "outputs": [
    {
     "name": "stdout",
     "output_type": "stream",
     "text": [
      "<class 'pandas.core.frame.DataFrame'>\n",
      "RangeIndex: 169978 entries, 0 to 169977\n",
      "Data columns (total 12 columns):\n",
      "제목       169978 non-null object\n",
      "부서레벨1    169978 non-null object\n",
      "부서레벨2    169961 non-null object\n",
      "집행연도     169978 non-null int64\n",
      "집행월      169978 non-null int64\n",
      "부서명      169880 non-null object\n",
      "집행일시     169978 non-null object\n",
      "집행장소     168172 non-null object\n",
      "집행목적     169956 non-null object\n",
      "대상인원     168792 non-null object\n",
      "결제방법     169765 non-null object\n",
      "집행금액     169978 non-null int64\n",
      "dtypes: int64(3), object(9)\n",
      "memory usage: 15.6+ MB\n"
     ]
    }
   ],
   "source": [
    "df_expense_all.info()"
   ]
  },
  {
   "cell_type": "markdown",
   "metadata": {},
   "source": [
    "**[16장: 578페이지]**"
   ]
  },
  {
   "cell_type": "code",
   "execution_count": 42,
   "metadata": {},
   "outputs": [
    {
     "data": {
      "text/html": [
       "<div>\n",
       "<style scoped>\n",
       "    .dataframe tbody tr th:only-of-type {\n",
       "        vertical-align: middle;\n",
       "    }\n",
       "\n",
       "    .dataframe tbody tr th {\n",
       "        vertical-align: top;\n",
       "    }\n",
       "\n",
       "    .dataframe thead th {\n",
       "        text-align: right;\n",
       "    }\n",
       "</style>\n",
       "<table border=\"1\" class=\"dataframe\">\n",
       "  <thead>\n",
       "    <tr style=\"text-align: right;\">\n",
       "      <th></th>\n",
       "      <th>제목</th>\n",
       "      <th>부서레벨1</th>\n",
       "      <th>부서레벨2</th>\n",
       "      <th>집행연도</th>\n",
       "      <th>집행월</th>\n",
       "      <th>부서명</th>\n",
       "      <th>집행일시</th>\n",
       "      <th>집행장소</th>\n",
       "      <th>집행목적</th>\n",
       "      <th>대상인원</th>\n",
       "      <th>결제방법</th>\n",
       "      <th>집행금액</th>\n",
       "    </tr>\n",
       "  </thead>\n",
       "  <tbody>\n",
       "    <tr>\n",
       "      <th>0</th>\n",
       "      <td>2016년 1월 서울특별시장 업무추진비 집행내역 공표</td>\n",
       "      <td>서울시본청</td>\n",
       "      <td>서울특별시장</td>\n",
       "      <td>2016</td>\n",
       "      <td>1</td>\n",
       "      <td>행정국 총무과</td>\n",
       "      <td>2016-01-30 12:27</td>\n",
       "      <td>매일한우타운식당(광시면 예당로길)</td>\n",
       "      <td>시정 청년정책 관련 업무협의 간담회</td>\n",
       "      <td>시장 등 12명</td>\n",
       "      <td>카드</td>\n",
       "      <td>250000</td>\n",
       "    </tr>\n",
       "    <tr>\n",
       "      <th>1</th>\n",
       "      <td>2016년 1월 서울특별시장 업무추진비 집행내역 공표</td>\n",
       "      <td>서울시본청</td>\n",
       "      <td>서울특별시장</td>\n",
       "      <td>2016</td>\n",
       "      <td>1</td>\n",
       "      <td>행정국 총무과</td>\n",
       "      <td>2016-01-30 08:28</td>\n",
       "      <td>청암회관(예산군 덕산면)</td>\n",
       "      <td>시정 충남, 전북 현장 방문 관련 업무협의</td>\n",
       "      <td>시장 등 6명</td>\n",
       "      <td>카드</td>\n",
       "      <td>72000</td>\n",
       "    </tr>\n",
       "  </tbody>\n",
       "</table>\n",
       "</div>"
      ],
      "text/plain": [
       "                              제목  부서레벨1   부서레벨2  집행연도  집행월      부서명  \\\n",
       "0  2016년 1월 서울특별시장 업무추진비 집행내역 공표  서울시본청  서울특별시장  2016    1  행정국 총무과   \n",
       "1  2016년 1월 서울특별시장 업무추진비 집행내역 공표  서울시본청  서울특별시장  2016    1  행정국 총무과   \n",
       "\n",
       "               집행일시                집행장소                     집행목적      대상인원  \\\n",
       "0  2016-01-30 12:27  매일한우타운식당(광시면 예당로길)      시정 청년정책 관련 업무협의 간담회  시장 등 12명   \n",
       "1  2016-01-30 08:28       청암회관(예산군 덕산면)  시정 충남, 전북 현장 방문 관련 업무협의   시장 등 6명   \n",
       "\n",
       "  결제방법    집행금액  \n",
       "0   카드  250000  \n",
       "1   카드   72000  "
      ]
     },
     "execution_count": 42,
     "metadata": {},
     "output_type": "execute_result"
    }
   ],
   "source": [
    "df_expense_all.head(2)"
   ]
  },
  {
   "cell_type": "markdown",
   "metadata": {},
   "source": [
    "**[16장: 578페이지]**"
   ]
  },
  {
   "cell_type": "code",
   "execution_count": 247,
   "metadata": {},
   "outputs": [
    {
     "data": {
      "text/html": [
       "<div>\n",
       "<style scoped>\n",
       "    .dataframe tbody tr th:only-of-type {\n",
       "        vertical-align: middle;\n",
       "    }\n",
       "\n",
       "    .dataframe tbody tr th {\n",
       "        vertical-align: top;\n",
       "    }\n",
       "\n",
       "    .dataframe thead th {\n",
       "        text-align: right;\n",
       "    }\n",
       "</style>\n",
       "<table border=\"1\" class=\"dataframe\">\n",
       "  <thead>\n",
       "    <tr style=\"text-align: right;\">\n",
       "      <th></th>\n",
       "      <th>제목</th>\n",
       "      <th>부서레벨1</th>\n",
       "      <th>부서레벨2</th>\n",
       "      <th>집행연도</th>\n",
       "      <th>집행월</th>\n",
       "      <th>부서명</th>\n",
       "      <th>집행일시</th>\n",
       "      <th>집행장소</th>\n",
       "      <th>집행목적</th>\n",
       "      <th>대상인원</th>\n",
       "      <th>결제방법</th>\n",
       "      <th>집행금액</th>\n",
       "    </tr>\n",
       "  </thead>\n",
       "  <tbody>\n",
       "    <tr>\n",
       "      <th>169606</th>\n",
       "      <td>2018년 12월 사업소_상수도사업본부_본부_시설안전부_누수방지과 업무추진비 내역</td>\n",
       "      <td>사업소</td>\n",
       "      <td>상수도사업본부</td>\n",
       "      <td>2018</td>\n",
       "      <td>12</td>\n",
       "      <td>상수도사업본부 시설안전부</td>\n",
       "      <td>2018-12-17 12:49</td>\n",
       "      <td>어촌수산 (서대문구 서소문로63)</td>\n",
       "      <td>상수도 누수복구 및 유수율 관련 업무 담당자 간담회</td>\n",
       "      <td>시설안전부장 등 13명</td>\n",
       "      <td>카드</td>\n",
       "      <td>213000</td>\n",
       "    </tr>\n",
       "    <tr>\n",
       "      <th>169607</th>\n",
       "      <td>2018년 12월 사업소_상수도사업본부_본부_시설안전부_누수방지과 업무추진비 내역</td>\n",
       "      <td>사업소</td>\n",
       "      <td>상수도사업본부</td>\n",
       "      <td>2018</td>\n",
       "      <td>12</td>\n",
       "      <td>상수도사업본부 시설안전부</td>\n",
       "      <td>2018-12-05 12:22</td>\n",
       "      <td>명과식당 (서대문구 충정로4길)</td>\n",
       "      <td>상수도 누수복구 및 유수율 관련 업무 담당자 간담회</td>\n",
       "      <td>시설안전부장 등 10명</td>\n",
       "      <td>카드</td>\n",
       "      <td>112000</td>\n",
       "    </tr>\n",
       "  </tbody>\n",
       "</table>\n",
       "</div>"
      ],
      "text/plain": [
       "                                                   제목 부서레벨1    부서레벨2  집행연도  \\\n",
       "169606  2018년 12월 사업소_상수도사업본부_본부_시설안전부_누수방지과 업무추진비 내역   사업소  상수도사업본부  2018   \n",
       "169607  2018년 12월 사업소_상수도사업본부_본부_시설안전부_누수방지과 업무추진비 내역   사업소  상수도사업본부  2018   \n",
       "\n",
       "        집행월            부서명              집행일시                집행장소  \\\n",
       "169606   12  상수도사업본부 시설안전부  2018-12-17 12:49  어촌수산 (서대문구 서소문로63)   \n",
       "169607   12  상수도사업본부 시설안전부  2018-12-05 12:22   명과식당 (서대문구 충정로4길)   \n",
       "\n",
       "                                집행목적          대상인원 결제방법    집행금액  \n",
       "169606  상수도 누수복구 및 유수율 관련 업무 담당자 간담회  시설안전부장 등 13명   카드  213000  \n",
       "169607  상수도 누수복구 및 유수율 관련 업무 담당자 간담회  시설안전부장 등 10명   카드  112000  "
      ]
     },
     "execution_count": 247,
     "metadata": {},
     "output_type": "execute_result"
    }
   ],
   "source": [
    "df_expense_all.tail(2)"
   ]
  },
  {
   "cell_type": "markdown",
   "metadata": {},
   "source": [
    "#### 연도별 추이 분석"
   ]
  },
  {
   "cell_type": "markdown",
   "metadata": {},
   "source": [
    "**[16장: 578페이지]**"
   ]
  },
  {
   "cell_type": "code",
   "execution_count": 43,
   "metadata": {},
   "outputs": [
    {
     "data": {
      "text/plain": [
       "2018    79955\n",
       "2017    71683\n",
       "2016    18340\n",
       "Name: 집행연도, dtype: int64"
      ]
     },
     "execution_count": 43,
     "metadata": {},
     "output_type": "execute_result"
    }
   ],
   "source": [
    "year_expense = df_expense_all['집행연도'].value_counts()\n",
    "year_expense"
   ]
  },
  {
   "cell_type": "markdown",
   "metadata": {},
   "source": [
    "**[16장: 579페이지]**"
   ]
  },
  {
   "cell_type": "code",
   "execution_count": 47,
   "metadata": {},
   "outputs": [
    {
     "data": {
      "image/png": "[encoded data removed]",
      "text/plain": [
       "<Figure size 432x288 with 1 Axes>"
      ]
     },
     "metadata": {
      "needs_background": "light"
     },
     "output_type": "display_data"
    }
   ],
   "source": [
    "import pandas as pd\n",
    "import matplotlib.pyplot as plt\n",
    "import matplotlib\n",
    "\n",
    "matplotlib.rcParams['font.family'] = 'Malgun Gothic'\n",
    "matplotlib.rcParams['axes.unicode_minus'] = False\n",
    "\n",
    "plt.bar(year_expense.index, year_expense.values, tick_label =year_expense.index, width = 0.5)\n",
    "plt.title(\"연도별 업무추진비 집행 횟수\")\n",
    "plt.xlabel(\"연도\")\n",
    "plt.ylabel(\"집행 횟수\")\n",
    "plt.show()"
   ]
  },
  {
   "cell_type": "markdown",
   "metadata": {},
   "source": [
    "**[16장: 579페이지]**"
   ]
  },
  {
   "cell_type": "code",
   "execution_count": 48,
   "metadata": {},
   "outputs": [
    {
     "data": {
      "text/html": [
       "<div>\n",
       "<style scoped>\n",
       "    .dataframe tbody tr th:only-of-type {\n",
       "        vertical-align: middle;\n",
       "    }\n",
       "\n",
       "    .dataframe tbody tr th {\n",
       "        vertical-align: top;\n",
       "    }\n",
       "\n",
       "    .dataframe thead th {\n",
       "        text-align: right;\n",
       "    }\n",
       "</style>\n",
       "<table border=\"1\" class=\"dataframe\">\n",
       "  <thead>\n",
       "    <tr style=\"text-align: right;\">\n",
       "      <th></th>\n",
       "      <th>집행금액</th>\n",
       "    </tr>\n",
       "    <tr>\n",
       "      <th>집행연도</th>\n",
       "      <th></th>\n",
       "    </tr>\n",
       "  </thead>\n",
       "  <tbody>\n",
       "    <tr>\n",
       "      <th>2016</th>\n",
       "      <td>2831458776</td>\n",
       "    </tr>\n",
       "    <tr>\n",
       "      <th>2017</th>\n",
       "      <td>9321898802</td>\n",
       "    </tr>\n",
       "    <tr>\n",
       "      <th>2018</th>\n",
       "      <td>11412902493</td>\n",
       "    </tr>\n",
       "  </tbody>\n",
       "</table>\n",
       "</div>"
      ],
      "text/plain": [
       "             집행금액\n",
       "집행연도             \n",
       "2016   2831458776\n",
       "2017   9321898802\n",
       "2018  11412902493"
      ]
     },
     "execution_count": 48,
     "metadata": {},
     "output_type": "execute_result"
    }
   ],
   "source": [
    "import pandas as pd\n",
    "\n",
    "year_total = pd.pivot_table(df_expense_all, index = ['집행연도'], values=['집행금액'], aggfunc = sum)\n",
    "year_total"
   ]
  },
  {
   "cell_type": "markdown",
   "metadata": {},
   "source": [
    "**[16장: 580페이지]**"
   ]
  },
  {
   "cell_type": "code",
   "execution_count": 75,
   "metadata": {},
   "outputs": [
    {
     "data": {
      "image/png": "[encoded data removed]",
      "text/plain": [
       "<Figure size 432x288 with 1 Axes>"
      ]
     },
     "metadata": {
      "needs_background": "light"
     },
     "output_type": "display_data"
    }
   ],
   "source": [
    "import pandas as pd\n",
    "import matplotlib.pyplot as plt\n",
    "import matplotlib\n",
    "\n",
    "matplotlib.rcParams['font.family'] = 'Malgun Gothic'\n",
    "matplotlib.rcParams['axes.unicode_minus'] = False\n",
    "\n",
    "eok_won = 100000000 # 억원\n",
    "(year_total/eok_won).plot.bar(rot=0) # 'rot = 각도'로 xtick 회전 각도를 지정\n",
    "plt.ylabel('집행금액(억원)')\n",
    "plt.show()"
   ]
  },
  {
   "cell_type": "markdown",
   "metadata": {},
   "source": [
    "#### 월별 집행금액 분석"
   ]
  },
  {
   "cell_type": "markdown",
   "metadata": {},
   "source": [
    "**[16장: 581페이지]** "
   ]
  },
  {
   "cell_type": "code",
   "execution_count": 53,
   "metadata": {},
   "outputs": [
    {
     "data": {
      "text/html": [
       "<div>\n",
       "<style scoped>\n",
       "    .dataframe tbody tr th:only-of-type {\n",
       "        vertical-align: middle;\n",
       "    }\n",
       "\n",
       "    .dataframe tbody tr th {\n",
       "        vertical-align: top;\n",
       "    }\n",
       "\n",
       "    .dataframe thead th {\n",
       "        text-align: right;\n",
       "    }\n",
       "</style>\n",
       "<table border=\"1\" class=\"dataframe\">\n",
       "  <thead>\n",
       "    <tr style=\"text-align: right;\">\n",
       "      <th></th>\n",
       "      <th>집행금액</th>\n",
       "    </tr>\n",
       "    <tr>\n",
       "      <th>집행월</th>\n",
       "      <th></th>\n",
       "    </tr>\n",
       "  </thead>\n",
       "  <tbody>\n",
       "    <tr>\n",
       "      <th>1</th>\n",
       "      <td>1639833832</td>\n",
       "    </tr>\n",
       "    <tr>\n",
       "      <th>2</th>\n",
       "      <td>1909735249</td>\n",
       "    </tr>\n",
       "    <tr>\n",
       "      <th>3</th>\n",
       "      <td>1650488411</td>\n",
       "    </tr>\n",
       "    <tr>\n",
       "      <th>4</th>\n",
       "      <td>1440145053</td>\n",
       "    </tr>\n",
       "    <tr>\n",
       "      <th>5</th>\n",
       "      <td>1431381779</td>\n",
       "    </tr>\n",
       "    <tr>\n",
       "      <th>6</th>\n",
       "      <td>1618346046</td>\n",
       "    </tr>\n",
       "    <tr>\n",
       "      <th>7</th>\n",
       "      <td>1615793367</td>\n",
       "    </tr>\n",
       "    <tr>\n",
       "      <th>8</th>\n",
       "      <td>1683522857</td>\n",
       "    </tr>\n",
       "    <tr>\n",
       "      <th>9</th>\n",
       "      <td>2048570048</td>\n",
       "    </tr>\n",
       "    <tr>\n",
       "      <th>10</th>\n",
       "      <td>1712586824</td>\n",
       "    </tr>\n",
       "    <tr>\n",
       "      <th>11</th>\n",
       "      <td>2679111580</td>\n",
       "    </tr>\n",
       "    <tr>\n",
       "      <th>12</th>\n",
       "      <td>4136745025</td>\n",
       "    </tr>\n",
       "  </tbody>\n",
       "</table>\n",
       "</div>"
      ],
      "text/plain": [
       "           집행금액\n",
       "집행월            \n",
       "1    1639833832\n",
       "2    1909735249\n",
       "3    1650488411\n",
       "4    1440145053\n",
       "5    1431381779\n",
       "6    1618346046\n",
       "7    1615793367\n",
       "8    1683522857\n",
       "9    2048570048\n",
       "10   1712586824\n",
       "11   2679111580\n",
       "12   4136745025"
      ]
     },
     "execution_count": 53,
     "metadata": {},
     "output_type": "execute_result"
    }
   ],
   "source": [
    "month_total = pd.pivot_table(df_expense_all, index = ['집행월'], values=['집행금액'], \n",
    "                             aggfunc = sum)\n",
    "month_total"
   ]
  },
  {
   "cell_type": "markdown",
   "metadata": {},
   "source": [
    "**[16장: 581페이지]** "
   ]
  },
  {
   "cell_type": "code",
   "execution_count": 51,
   "metadata": {},
   "outputs": [
    {
     "data": {
      "text/html": [
       "<div>\n",
       "<style scoped>\n",
       "    .dataframe tbody tr th:only-of-type {\n",
       "        vertical-align: middle;\n",
       "    }\n",
       "\n",
       "    .dataframe tbody tr th {\n",
       "        vertical-align: top;\n",
       "    }\n",
       "\n",
       "    .dataframe thead tr th {\n",
       "        text-align: left;\n",
       "    }\n",
       "\n",
       "    .dataframe thead tr:last-of-type th {\n",
       "        text-align: right;\n",
       "    }\n",
       "</style>\n",
       "<table border=\"1\" class=\"dataframe\">\n",
       "  <thead>\n",
       "    <tr>\n",
       "      <th></th>\n",
       "      <th colspan=\"3\" halign=\"left\">집행금액</th>\n",
       "    </tr>\n",
       "    <tr>\n",
       "      <th>집행연도</th>\n",
       "      <th>2016</th>\n",
       "      <th>2017</th>\n",
       "      <th>2018</th>\n",
       "    </tr>\n",
       "    <tr>\n",
       "      <th>집행월</th>\n",
       "      <th></th>\n",
       "      <th></th>\n",
       "      <th></th>\n",
       "    </tr>\n",
       "  </thead>\n",
       "  <tbody>\n",
       "    <tr>\n",
       "      <th>1</th>\n",
       "      <td>47693520</td>\n",
       "      <td>729315320</td>\n",
       "      <td>862824992</td>\n",
       "    </tr>\n",
       "    <tr>\n",
       "      <th>2</th>\n",
       "      <td>109610290</td>\n",
       "      <td>714656124</td>\n",
       "      <td>1085468835</td>\n",
       "    </tr>\n",
       "    <tr>\n",
       "      <th>3</th>\n",
       "      <td>61903760</td>\n",
       "      <td>747255654</td>\n",
       "      <td>841328997</td>\n",
       "    </tr>\n",
       "    <tr>\n",
       "      <th>4</th>\n",
       "      <td>65546910</td>\n",
       "      <td>644248075</td>\n",
       "      <td>730350068</td>\n",
       "    </tr>\n",
       "    <tr>\n",
       "      <th>5</th>\n",
       "      <td>66231770</td>\n",
       "      <td>672787918</td>\n",
       "      <td>692362091</td>\n",
       "    </tr>\n",
       "    <tr>\n",
       "      <th>6</th>\n",
       "      <td>67448430</td>\n",
       "      <td>780348992</td>\n",
       "      <td>770548624</td>\n",
       "    </tr>\n",
       "    <tr>\n",
       "      <th>7</th>\n",
       "      <td>67205920</td>\n",
       "      <td>723022406</td>\n",
       "      <td>825565041</td>\n",
       "    </tr>\n",
       "    <tr>\n",
       "      <th>8</th>\n",
       "      <td>56708405</td>\n",
       "      <td>679507220</td>\n",
       "      <td>947307232</td>\n",
       "    </tr>\n",
       "    <tr>\n",
       "      <th>9</th>\n",
       "      <td>109465580</td>\n",
       "      <td>858946825</td>\n",
       "      <td>1080157643</td>\n",
       "    </tr>\n",
       "    <tr>\n",
       "      <th>10</th>\n",
       "      <td>61921802</td>\n",
       "      <td>652470333</td>\n",
       "      <td>998194689</td>\n",
       "    </tr>\n",
       "    <tr>\n",
       "      <th>11</th>\n",
       "      <td>800376504</td>\n",
       "      <td>862637491</td>\n",
       "      <td>1016097585</td>\n",
       "    </tr>\n",
       "    <tr>\n",
       "      <th>12</th>\n",
       "      <td>1317345885</td>\n",
       "      <td>1256702444</td>\n",
       "      <td>1562696696</td>\n",
       "    </tr>\n",
       "  </tbody>\n",
       "</table>\n",
       "</div>"
      ],
      "text/plain": [
       "            집행금액                        \n",
       "집행연도        2016        2017        2018\n",
       "집행월                                     \n",
       "1       47693520   729315320   862824992\n",
       "2      109610290   714656124  1085468835\n",
       "3       61903760   747255654   841328997\n",
       "4       65546910   644248075   730350068\n",
       "5       66231770   672787918   692362091\n",
       "6       67448430   780348992   770548624\n",
       "7       67205920   723022406   825565041\n",
       "8       56708405   679507220   947307232\n",
       "9      109465580   858946825  1080157643\n",
       "10      61921802   652470333   998194689\n",
       "11     800376504   862637491  1016097585\n",
       "12    1317345885  1256702444  1562696696"
      ]
     },
     "execution_count": 51,
     "metadata": {},
     "output_type": "execute_result"
    }
   ],
   "source": [
    "year_month_total = pd.pivot_table(df_expense_all, index = ['집행월'], columns=['집행연도'], \n",
    "                                  values=['집행금액'], aggfunc = sum)\n",
    "year_month_total"
   ]
  },
  {
   "cell_type": "markdown",
   "metadata": {},
   "source": [
    "**[16장: 582페이지]** "
   ]
  },
  {
   "cell_type": "code",
   "execution_count": 54,
   "metadata": {},
   "outputs": [
    {
     "data": {
      "image/png": "[encoded data removed]",
      "text/plain": [
       "<Figure size 432x288 with 1 Axes>"
      ]
     },
     "metadata": {
      "needs_background": "light"
     },
     "output_type": "display_data"
    }
   ],
   "source": [
    "eok_won = 100000000 # 억원\n",
    "\n",
    "(year_month_total/eok_won).plot.bar(rot=0)\n",
    "plt.ylabel('집행금액(억원)')\n",
    "plt.title(\"업무추진비의 월별 집행금액\")\n",
    "plt.legend(['2016년', '2017년', '2018년'])\n",
    "plt.show()"
   ]
  },
  {
   "cell_type": "markdown",
   "metadata": {},
   "source": [
    "#### 부서별 집행 내역 분석"
   ]
  },
  {
   "cell_type": "markdown",
   "metadata": {},
   "source": [
    "**[16장: 583페이지]** "
   ]
  },
  {
   "cell_type": "code",
   "execution_count": 55,
   "metadata": {},
   "outputs": [
    {
     "data": {
      "text/html": [
       "<div>\n",
       "<style scoped>\n",
       "    .dataframe tbody tr th:only-of-type {\n",
       "        vertical-align: middle;\n",
       "    }\n",
       "\n",
       "    .dataframe tbody tr th {\n",
       "        vertical-align: top;\n",
       "    }\n",
       "\n",
       "    .dataframe thead th {\n",
       "        text-align: right;\n",
       "    }\n",
       "</style>\n",
       "<table border=\"1\" class=\"dataframe\">\n",
       "  <thead>\n",
       "    <tr style=\"text-align: right;\">\n",
       "      <th></th>\n",
       "      <th>집행금액</th>\n",
       "    </tr>\n",
       "    <tr>\n",
       "      <th>부서레벨1</th>\n",
       "      <th></th>\n",
       "    </tr>\n",
       "  </thead>\n",
       "  <tbody>\n",
       "    <tr>\n",
       "      <th>사업소</th>\n",
       "      <td>4872437880</td>\n",
       "    </tr>\n",
       "    <tr>\n",
       "      <th>서울시본청</th>\n",
       "      <td>13967177416</td>\n",
       "    </tr>\n",
       "    <tr>\n",
       "      <th>소방재난본부(소방서)</th>\n",
       "      <td>3859671439</td>\n",
       "    </tr>\n",
       "    <tr>\n",
       "      <th>의회사무처</th>\n",
       "      <td>866973336</td>\n",
       "    </tr>\n",
       "  </tbody>\n",
       "</table>\n",
       "</div>"
      ],
      "text/plain": [
       "                    집행금액\n",
       "부서레벨1                   \n",
       "사업소           4872437880\n",
       "서울시본청        13967177416\n",
       "소방재난본부(소방서)   3859671439\n",
       "의회사무처          866973336"
      ]
     },
     "execution_count": 55,
     "metadata": {},
     "output_type": "execute_result"
    }
   ],
   "source": [
    "dept_level1_total = pd.pivot_table(df_expense_all, index = ['부서레벨1'], values=['집행금액'], \n",
    "                                   aggfunc = sum)\n",
    "dept_level1_total"
   ]
  },
  {
   "cell_type": "markdown",
   "metadata": {},
   "source": [
    "**[16장: 584페이지]** "
   ]
  },
  {
   "cell_type": "code",
   "execution_count": 57,
   "metadata": {},
   "outputs": [
    {
     "data": {
      "text/html": [
       "<div>\n",
       "<style scoped>\n",
       "    .dataframe tbody tr th:only-of-type {\n",
       "        vertical-align: middle;\n",
       "    }\n",
       "\n",
       "    .dataframe tbody tr th {\n",
       "        vertical-align: top;\n",
       "    }\n",
       "\n",
       "    .dataframe thead th {\n",
       "        text-align: right;\n",
       "    }\n",
       "</style>\n",
       "<table border=\"1\" class=\"dataframe\">\n",
       "  <thead>\n",
       "    <tr style=\"text-align: right;\">\n",
       "      <th></th>\n",
       "      <th>집행금액</th>\n",
       "    </tr>\n",
       "    <tr>\n",
       "      <th>부서레벨2</th>\n",
       "      <th></th>\n",
       "    </tr>\n",
       "  </thead>\n",
       "  <tbody>\n",
       "    <tr>\n",
       "      <th>119특수구조단</th>\n",
       "      <td>116393420</td>\n",
       "    </tr>\n",
       "    <tr>\n",
       "      <th>감사위원회</th>\n",
       "      <td>267321930</td>\n",
       "    </tr>\n",
       "    <tr>\n",
       "      <th>강남소방서</th>\n",
       "      <td>169136740</td>\n",
       "    </tr>\n",
       "    <tr>\n",
       "      <th>강동소방서</th>\n",
       "      <td>166212200</td>\n",
       "    </tr>\n",
       "    <tr>\n",
       "      <th>강북소방서</th>\n",
       "      <td>122324520</td>\n",
       "    </tr>\n",
       "  </tbody>\n",
       "</table>\n",
       "</div>"
      ],
      "text/plain": [
       "               집행금액\n",
       "부서레벨2              \n",
       "119특수구조단  116393420\n",
       "감사위원회     267321930\n",
       "강남소방서     169136740\n",
       "강동소방서     166212200\n",
       "강북소방서     122324520"
      ]
     },
     "execution_count": 57,
     "metadata": {},
     "output_type": "execute_result"
    }
   ],
   "source": [
    "dept_level_2_total = pd.pivot_table(df_expense_all, index = ['부서레벨2'], values=['집행금액'], \n",
    "                                    aggfunc = sum)\n",
    "dept_level_2_total.head()"
   ]
  },
  {
   "cell_type": "markdown",
   "metadata": {},
   "source": [
    "**[16장: 584페이지]** "
   ]
  },
  {
   "cell_type": "code",
   "execution_count": 59,
   "metadata": {},
   "outputs": [
    {
     "data": {
      "text/html": [
       "<div>\n",
       "<style scoped>\n",
       "    .dataframe tbody tr th:only-of-type {\n",
       "        vertical-align: middle;\n",
       "    }\n",
       "\n",
       "    .dataframe tbody tr th {\n",
       "        vertical-align: top;\n",
       "    }\n",
       "\n",
       "    .dataframe thead th {\n",
       "        text-align: right;\n",
       "    }\n",
       "</style>\n",
       "<table border=\"1\" class=\"dataframe\">\n",
       "  <thead>\n",
       "    <tr style=\"text-align: right;\">\n",
       "      <th></th>\n",
       "      <th>집행금액</th>\n",
       "    </tr>\n",
       "    <tr>\n",
       "      <th>부서레벨2</th>\n",
       "      <th></th>\n",
       "    </tr>\n",
       "  </thead>\n",
       "  <tbody>\n",
       "    <tr>\n",
       "      <th>상수도사업본부</th>\n",
       "      <td>1634715435</td>\n",
       "    </tr>\n",
       "    <tr>\n",
       "      <th>서울특별시장</th>\n",
       "      <td>1435327244</td>\n",
       "    </tr>\n",
       "    <tr>\n",
       "      <th>행정국</th>\n",
       "      <td>1388232944</td>\n",
       "    </tr>\n",
       "    <tr>\n",
       "      <th>기획조정실</th>\n",
       "      <td>1095362000</td>\n",
       "    </tr>\n",
       "    <tr>\n",
       "      <th>시민소통기획관</th>\n",
       "      <td>728381084</td>\n",
       "    </tr>\n",
       "    <tr>\n",
       "      <th>정무부시장</th>\n",
       "      <td>662177340</td>\n",
       "    </tr>\n",
       "    <tr>\n",
       "      <th>행정1부시장</th>\n",
       "      <td>645968310</td>\n",
       "    </tr>\n",
       "    <tr>\n",
       "      <th>안전총괄본부</th>\n",
       "      <td>561458697</td>\n",
       "    </tr>\n",
       "    <tr>\n",
       "      <th>행정2부시장</th>\n",
       "      <td>542814902</td>\n",
       "    </tr>\n",
       "    <tr>\n",
       "      <th>도시기반시설본부</th>\n",
       "      <td>494578134</td>\n",
       "    </tr>\n",
       "  </tbody>\n",
       "</table>\n",
       "</div>"
      ],
      "text/plain": [
       "                집행금액\n",
       "부서레벨2               \n",
       "상수도사업본부   1634715435\n",
       "서울특별시장    1435327244\n",
       "행정국       1388232944\n",
       "기획조정실     1095362000\n",
       "시민소통기획관    728381084\n",
       "정무부시장      662177340\n",
       "행정1부시장     645968310\n",
       "안전총괄본부     561458697\n",
       "행정2부시장     542814902\n",
       "도시기반시설본부   494578134"
      ]
     },
     "execution_count": 59,
     "metadata": {},
     "output_type": "execute_result"
    }
   ],
   "source": [
    "dept_level_2_total_top10 = dept_level_2_total.sort_values(by=['집행금액'], ascending = False)[0:10]\n",
    "dept_level_2_total_top10"
   ]
  },
  {
   "cell_type": "markdown",
   "metadata": {},
   "source": [
    "**[16장: 585페이지]** "
   ]
  },
  {
   "cell_type": "code",
   "execution_count": 60,
   "metadata": {},
   "outputs": [
    {
     "data": {
      "image/png": "[encoded data removed]",
      "text/plain": [
       "<Figure size 432x288 with 1 Axes>"
      ]
     },
     "metadata": {
      "needs_background": "light"
     },
     "output_type": "display_data"
    }
   ],
   "source": [
    "eok_won = 100000000 # 억원\n",
    "\n",
    "(dept_level_2_total_top10/eok_won).plot.bar(rot=80)\n",
    "plt.ylabel('집행금액(억원)')\n",
    "plt.title(\"업무추진비 집행금액이 높은 상위 10개 부서\")\n",
    "plt.show()"
   ]
  },
  {
   "cell_type": "markdown",
   "metadata": {},
   "source": [
    "**[16장: 585 ~ 586페이지]** "
   ]
  },
  {
   "cell_type": "code",
   "execution_count": 61,
   "metadata": {},
   "outputs": [
    {
     "data": {
      "image/png": "[encoded data removed]",
      "text/plain": [
       "<Figure size 864x648 with 1 Axes>"
      ]
     },
     "metadata": {
      "needs_background": "light"
     },
     "output_type": "display_data"
    }
   ],
   "source": [
    "import matplotlib.pyplot as plt\n",
    "from wordcloud import WordCloud\n",
    "\n",
    "korean_font_path = 'C:/Windows/Fonts/malgun.ttf' # 한글 폰트(맑은 고딕) 파일명\n",
    "\n",
    "# 워드 클라우드 이미지 생성\n",
    "wc = WordCloud(font_path=korean_font_path, background_color='white',\n",
    "              width=800, height=600)\n",
    "\n",
    "frequencies = dept_level_2_total['집행금액'] # pandas의 Series 형식이 됨\n",
    "wordcloud_image = wc.generate_from_frequencies(frequencies)\n",
    "\n",
    "plt.figure(figsize=(12,9))\n",
    "plt.axis('off')\n",
    "plt.imshow(wordcloud_image, interpolation = 'bilinear')\n",
    "plt.show()"
   ]
  },
  {
   "cell_type": "markdown",
   "metadata": {},
   "source": [
    "#### 요일별 및 시간대별 집행 내역 분석"
   ]
  },
  {
   "cell_type": "markdown",
   "metadata": {},
   "source": [
    "**[16장: 586페이지]** "
   ]
  },
  {
   "cell_type": "code",
   "execution_count": 62,
   "metadata": {},
   "outputs": [
    {
     "data": {
      "text/plain": [
       "array(['2016-01-30 12:27', '2016-01-30 08:28', '2016-01-29 20:06', ...,\n",
       "       '2018-12-11 18:00', '2018-12-11 14:24', '2018-12-11 14:18'],\n",
       "      dtype=object)"
      ]
     },
     "execution_count": 62,
     "metadata": {},
     "output_type": "execute_result"
    }
   ],
   "source": [
    "df_expense_all['집행일시'].values"
   ]
  },
  {
   "cell_type": "markdown",
   "metadata": {},
   "source": [
    "**[16장: 587페이지]** "
   ]
  },
  {
   "cell_type": "code",
   "execution_count": 63,
   "metadata": {},
   "outputs": [
    {
     "data": {
      "text/plain": [
       "array(['2016-01-30T12:27:00.000000000', '2016-01-30T08:28:00.000000000',\n",
       "       '2016-01-29T20:06:00.000000000', ...,\n",
       "       '2018-12-11T18:00:00.000000000', '2018-12-11T14:24:00.000000000',\n",
       "       '2018-12-11T14:18:00.000000000'], dtype='datetime64[ns]')"
      ]
     },
     "execution_count": 63,
     "metadata": {},
     "output_type": "execute_result"
    }
   ],
   "source": [
    "expense_date_time = pd.to_datetime(df_expense_all['집행일시'])\n",
    "expense_date_time.values"
   ]
  },
  {
   "cell_type": "markdown",
   "metadata": {},
   "source": [
    "**[16장: 587페이지]**  "
   ]
  },
  {
   "cell_type": "code",
   "execution_count": 64,
   "metadata": {},
   "outputs": [],
   "source": [
    "week_day_name = [\"월\", \"화\", \"수\", \"목\", \"금\", \"토\", \"일\"]\n",
    "\n",
    "df_expense_all['집행일시_요일'] = [week_day_name[weekday] for weekday in expense_date_time.dt.weekday]"
   ]
  },
  {
   "cell_type": "markdown",
   "metadata": {},
   "source": [
    "**[16장: 587페이지]**  "
   ]
  },
  {
   "cell_type": "code",
   "execution_count": 65,
   "metadata": {},
   "outputs": [],
   "source": [
    "df_expense_all['집행일시_시간'] = [hour for hour in expense_date_time.dt.hour]"
   ]
  },
  {
   "cell_type": "markdown",
   "metadata": {},
   "source": [
    "**[16장: 587페이지]**  "
   ]
  },
  {
   "cell_type": "code",
   "execution_count": 66,
   "metadata": {},
   "outputs": [
    {
     "data": {
      "text/html": [
       "<div>\n",
       "<style scoped>\n",
       "    .dataframe tbody tr th:only-of-type {\n",
       "        vertical-align: middle;\n",
       "    }\n",
       "\n",
       "    .dataframe tbody tr th {\n",
       "        vertical-align: top;\n",
       "    }\n",
       "\n",
       "    .dataframe thead th {\n",
       "        text-align: right;\n",
       "    }\n",
       "</style>\n",
       "<table border=\"1\" class=\"dataframe\">\n",
       "  <thead>\n",
       "    <tr style=\"text-align: right;\">\n",
       "      <th></th>\n",
       "      <th>제목</th>\n",
       "      <th>부서레벨1</th>\n",
       "      <th>부서레벨2</th>\n",
       "      <th>집행연도</th>\n",
       "      <th>집행월</th>\n",
       "      <th>부서명</th>\n",
       "      <th>집행일시</th>\n",
       "      <th>집행장소</th>\n",
       "      <th>집행목적</th>\n",
       "      <th>대상인원</th>\n",
       "      <th>결제방법</th>\n",
       "      <th>집행금액</th>\n",
       "      <th>집행일시_요일</th>\n",
       "      <th>집행일시_시간</th>\n",
       "    </tr>\n",
       "  </thead>\n",
       "  <tbody>\n",
       "    <tr>\n",
       "      <th>0</th>\n",
       "      <td>2016년 1월 서울특별시장 업무추진비 집행내역 공표</td>\n",
       "      <td>서울시본청</td>\n",
       "      <td>서울특별시장</td>\n",
       "      <td>2016</td>\n",
       "      <td>1</td>\n",
       "      <td>행정국 총무과</td>\n",
       "      <td>2016-01-30 12:27</td>\n",
       "      <td>매일한우타운식당(광시면 예당로길)</td>\n",
       "      <td>시정 청년정책 관련 업무협의 간담회</td>\n",
       "      <td>시장 등 12명</td>\n",
       "      <td>카드</td>\n",
       "      <td>250000</td>\n",
       "      <td>토</td>\n",
       "      <td>12</td>\n",
       "    </tr>\n",
       "    <tr>\n",
       "      <th>1</th>\n",
       "      <td>2016년 1월 서울특별시장 업무추진비 집행내역 공표</td>\n",
       "      <td>서울시본청</td>\n",
       "      <td>서울특별시장</td>\n",
       "      <td>2016</td>\n",
       "      <td>1</td>\n",
       "      <td>행정국 총무과</td>\n",
       "      <td>2016-01-30 08:28</td>\n",
       "      <td>청암회관(예산군 덕산면)</td>\n",
       "      <td>시정 충남, 전북 현장 방문 관련 업무협의</td>\n",
       "      <td>시장 등 6명</td>\n",
       "      <td>카드</td>\n",
       "      <td>72000</td>\n",
       "      <td>토</td>\n",
       "      <td>8</td>\n",
       "    </tr>\n",
       "    <tr>\n",
       "      <th>2</th>\n",
       "      <td>2016년 1월 서울특별시장 업무추진비 집행내역 공표</td>\n",
       "      <td>서울시본청</td>\n",
       "      <td>서울특별시장</td>\n",
       "      <td>2016</td>\n",
       "      <td>1</td>\n",
       "      <td>행정국 총무과</td>\n",
       "      <td>2016-01-29 20:06</td>\n",
       "      <td>태원(서구 문정로)</td>\n",
       "      <td>시정 지방자치단체 협력 관련 업무협의</td>\n",
       "      <td>시장 등 3명</td>\n",
       "      <td>카드</td>\n",
       "      <td>107500</td>\n",
       "      <td>금</td>\n",
       "      <td>20</td>\n",
       "    </tr>\n",
       "  </tbody>\n",
       "</table>\n",
       "</div>"
      ],
      "text/plain": [
       "                              제목  부서레벨1   부서레벨2  집행연도  집행월      부서명  \\\n",
       "0  2016년 1월 서울특별시장 업무추진비 집행내역 공표  서울시본청  서울특별시장  2016    1  행정국 총무과   \n",
       "1  2016년 1월 서울특별시장 업무추진비 집행내역 공표  서울시본청  서울특별시장  2016    1  행정국 총무과   \n",
       "2  2016년 1월 서울특별시장 업무추진비 집행내역 공표  서울시본청  서울특별시장  2016    1  행정국 총무과   \n",
       "\n",
       "               집행일시                집행장소                     집행목적      대상인원  \\\n",
       "0  2016-01-30 12:27  매일한우타운식당(광시면 예당로길)      시정 청년정책 관련 업무협의 간담회  시장 등 12명   \n",
       "1  2016-01-30 08:28       청암회관(예산군 덕산면)  시정 충남, 전북 현장 방문 관련 업무협의   시장 등 6명   \n",
       "2  2016-01-29 20:06          태원(서구 문정로)     시정 지방자치단체 협력 관련 업무협의   시장 등 3명   \n",
       "\n",
       "  결제방법    집행금액 집행일시_요일  집행일시_시간  \n",
       "0   카드  250000       토       12  \n",
       "1   카드   72000       토        8  \n",
       "2   카드  107500       금       20  "
      ]
     },
     "execution_count": 66,
     "metadata": {},
     "output_type": "execute_result"
    }
   ],
   "source": [
    "df_expense_all.head(3)"
   ]
  },
  {
   "cell_type": "markdown",
   "metadata": {},
   "source": [
    "**[16장: 588페이지]**  "
   ]
  },
  {
   "cell_type": "code",
   "execution_count": 67,
   "metadata": {},
   "outputs": [
    {
     "data": {
      "text/plain": [
       "목    36376\n",
       "화    33746\n",
       "수    33170\n",
       "금    32471\n",
       "월    30303\n",
       "토     2291\n",
       "일     1621\n",
       "Name: 집행일시_요일, dtype: int64"
      ]
     },
     "execution_count": 67,
     "metadata": {},
     "output_type": "execute_result"
    }
   ],
   "source": [
    "expense_weekday = df_expense_all['집행일시_요일'].value_counts()\n",
    "expense_weekday"
   ]
  },
  {
   "cell_type": "markdown",
   "metadata": {},
   "source": [
    "**[16장: 588페이지]**  "
   ]
  },
  {
   "cell_type": "code",
   "execution_count": 68,
   "metadata": {},
   "outputs": [
    {
     "data": {
      "text/plain": [
       "월    30303\n",
       "화    33746\n",
       "수    33170\n",
       "목    36376\n",
       "금    32471\n",
       "토     2291\n",
       "일     1621\n",
       "Name: 집행일시_요일, dtype: int64"
      ]
     },
     "execution_count": 68,
     "metadata": {},
     "output_type": "execute_result"
    }
   ],
   "source": [
    "expense_weekday = expense_weekday.reindex(index = week_day_name)\n",
    "expense_weekday"
   ]
  },
  {
   "cell_type": "markdown",
   "metadata": {},
   "source": [
    "**[16장: 589페이지]**  "
   ]
  },
  {
   "cell_type": "code",
   "execution_count": 216,
   "metadata": {},
   "outputs": [
    {
     "data": {
      "image/png": "[encoded data removed]",
      "text/plain": [
       "<Figure size 432x288 with 1 Axes>"
      ]
     },
     "metadata": {
      "needs_background": "light"
     },
     "output_type": "display_data"
    }
   ],
   "source": [
    "expense_weekday.plot.bar(rot=0)\n",
    "plt.title(\"요일별 업무추진비 집행 횟수\")\n",
    "plt.xlabel(\"요일\")\n",
    "plt.ylabel(\"집행 횟수\")\n",
    "plt.show()"
   ]
  },
  {
   "cell_type": "markdown",
   "metadata": {},
   "source": [
    "**[16장: 589페이지]**  "
   ]
  },
  {
   "cell_type": "code",
   "execution_count": 125,
   "metadata": {},
   "outputs": [
    {
     "data": {
      "text/plain": [
       "12    65871\n",
       "20    18528\n",
       "13    16812\n",
       "19    13596\n",
       "21     9981\n",
       "14     6566\n",
       "11     6503\n",
       "15     5827\n",
       "18     4714\n",
       "10     4406\n",
       "0      4322\n",
       "16     4078\n",
       "9      2733\n",
       "17     2505\n",
       "22     2125\n",
       "8       777\n",
       "7       399\n",
       "23       96\n",
       "6        40\n",
       "1        26\n",
       "4        23\n",
       "3        20\n",
       "5        16\n",
       "2        14\n",
       "Name: 집행일시_시간, dtype: int64"
      ]
     },
     "execution_count": 125,
     "metadata": {},
     "output_type": "execute_result"
    }
   ],
   "source": [
    "expense_hour_num = df_expense_all['집행일시_시간'].value_counts()\n",
    "expense_hour_num"
   ]
  },
  {
   "cell_type": "markdown",
   "metadata": {},
   "source": [
    "**[16장: 590페이지]**  "
   ]
  },
  {
   "cell_type": "code",
   "execution_count": 126,
   "metadata": {},
   "outputs": [
    {
     "data": {
      "text/plain": [
       "8       777\n",
       "9      2733\n",
       "10     4406\n",
       "11     6503\n",
       "12    65871\n",
       "13    16812\n",
       "14     6566\n",
       "15     5827\n",
       "16     4078\n",
       "17     2505\n",
       "18     4714\n",
       "19    13596\n",
       "20    18528\n",
       "21     9981\n",
       "22     2125\n",
       "23       96\n",
       "0      4322\n",
       "1        26\n",
       "2        14\n",
       "3        20\n",
       "4        23\n",
       "5        16\n",
       "6        40\n",
       "7       399\n",
       "Name: 집행일시_시간, dtype: int64"
      ]
     },
     "execution_count": 126,
     "metadata": {},
     "output_type": "execute_result"
    }
   ],
   "source": [
    "work_hour = [ (k+8)%24 for k in range(24)]\n",
    "expense_hour_num = expense_hour_num.reindex(index = work_hour)\n",
    "expense_hour_num"
   ]
  },
  {
   "cell_type": "markdown",
   "metadata": {},
   "source": [
    "**[16장: 591페이지]** "
   ]
  },
  {
   "cell_type": "code",
   "execution_count": 79,
   "metadata": {},
   "outputs": [
    {
     "data": {
      "image/png": "[encoded data removed]",
      "text/plain": [
       "<Figure size 432x288 with 1 Axes>"
      ]
     },
     "metadata": {
      "needs_background": "light"
     },
     "output_type": "display_data"
    }
   ],
   "source": [
    "expense_hour_num.plot.bar(rot = 0)\n",
    "plt.title(\"시간별 업무추진비 집행 횟수\")\n",
    "plt.xlabel(\"집행 시간\")\n",
    "plt.ylabel(\"집행 횟수\")\n",
    "plt.show()"
   ]
  },
  {
   "cell_type": "markdown",
   "metadata": {},
   "source": [
    "**[16장: 592페이지]** "
   ]
  },
  {
   "cell_type": "code",
   "execution_count": 80,
   "metadata": {},
   "outputs": [
    {
     "data": {
      "text/html": [
       "<div>\n",
       "<style scoped>\n",
       "    .dataframe tbody tr th:only-of-type {\n",
       "        vertical-align: middle;\n",
       "    }\n",
       "\n",
       "    .dataframe tbody tr th {\n",
       "        vertical-align: top;\n",
       "    }\n",
       "\n",
       "    .dataframe thead th {\n",
       "        text-align: right;\n",
       "    }\n",
       "</style>\n",
       "<table border=\"1\" class=\"dataframe\">\n",
       "  <thead>\n",
       "    <tr style=\"text-align: right;\">\n",
       "      <th></th>\n",
       "      <th>집행금액</th>\n",
       "    </tr>\n",
       "    <tr>\n",
       "      <th>집행일시_시간</th>\n",
       "      <th></th>\n",
       "    </tr>\n",
       "  </thead>\n",
       "  <tbody>\n",
       "    <tr>\n",
       "      <th>0</th>\n",
       "      <td>780153340</td>\n",
       "    </tr>\n",
       "    <tr>\n",
       "      <th>1</th>\n",
       "      <td>3215355</td>\n",
       "    </tr>\n",
       "    <tr>\n",
       "      <th>2</th>\n",
       "      <td>1664989</td>\n",
       "    </tr>\n",
       "    <tr>\n",
       "      <th>3</th>\n",
       "      <td>6173272</td>\n",
       "    </tr>\n",
       "    <tr>\n",
       "      <th>4</th>\n",
       "      <td>6027401</td>\n",
       "    </tr>\n",
       "  </tbody>\n",
       "</table>\n",
       "</div>"
      ],
      "text/plain": [
       "              집행금액\n",
       "집행일시_시간           \n",
       "0        780153340\n",
       "1          3215355\n",
       "2          1664989\n",
       "3          6173272\n",
       "4          6027401"
      ]
     },
     "execution_count": 80,
     "metadata": {},
     "output_type": "execute_result"
    }
   ],
   "source": [
    "expense_hour_total = pd.pivot_table(df_expense_all, index = ['집행일시_시간'],\n",
    "                                    values=['집행금액'], aggfunc = sum)\n",
    "expense_hour_total.head()"
   ]
  },
  {
   "cell_type": "markdown",
   "metadata": {},
   "source": [
    "**[16장: 592페이지]** "
   ]
  },
  {
   "cell_type": "code",
   "execution_count": 81,
   "metadata": {},
   "outputs": [
    {
     "data": {
      "image/png": "[encoded data removed]",
      "text/plain": [
       "<Figure size 432x288 with 1 Axes>"
      ]
     },
     "metadata": {
      "needs_background": "light"
     },
     "output_type": "display_data"
    }
   ],
   "source": [
    "eok_won = 100000000 # 억원\n",
    "expense_hour_total = expense_hour_total.reindex(index = work_hour)\n",
    "\n",
    "(expense_hour_total/eok_won).plot.bar(rot=0)\n",
    "plt.ylabel('집행금액(억원)')\n",
    "plt.title(\"시간별대 업무추진비 집행금액\")\n",
    "plt.show()"
   ]
  },
  {
   "cell_type": "markdown",
   "metadata": {},
   "source": [
    "## 16.4 정리"
   ]
  }
 ],
 "metadata": {
  "kernelspec": {
   "display_name": "Python 3",
   "language": "python",
   "name": "python3"
  },
  "language_info": {
   "codemirror_mode": {
    "name": "ipython",
    "version": 3
   },
   "file_extension": ".py",
   "mimetype": "text/x-python",
   "name": "python",
   "nbconvert_exporter": "python",
   "pygments_lexer": "ipython3",
   "version": "3.7.1"
  },
  "toc": {
   "nav_menu": {},
   "number_sections": true,
   "sideBar": true,
   "skip_h1_title": false,
   "toc_cell": true,
   "toc_position": {
    "height": "581.867px",
    "left": "0px",
    "right": "1035px",
    "top": "111.133px",
    "width": "331px"
   },
   "toc_section_display": "block",
   "toc_window_display": true
  },
  "toc-autonumbering": false,
  "toc-showcode": false,
  "toc-showmarkdowntxt": false,
  "toc-showtags": false
 },
 "nbformat": 4,
 "nbformat_minor": 2
}
